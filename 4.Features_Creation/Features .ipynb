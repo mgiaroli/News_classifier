{
 "cells": [
  {
   "cell_type": "markdown",
   "id": "66978831",
   "metadata": {},
   "source": [
    "# Features creation\n",
    "\n",
    "In this notebook, we create the features in order to train with machine learning models.\n",
    "\n",
    "We need to find a good method to represent the text. As a first approach, we will work with TF-IDF Vectors (TF: Term Frequency - IDF: Inverse Document Frequency)."
   ]
  },
  {
   "cell_type": "code",
   "execution_count": 10,
   "id": "c26798f6",
   "metadata": {},
   "outputs": [],
   "source": [
    "import pickle\n",
    "import seaborn as sns\n",
    "from sklearn.feature_extraction.text import TfidfVectorizer\n",
    "from sklearn.model_selection import train_test_split\n",
    "from sklearn.feature_selection import chi2\n",
    "import numpy as np\n",
    "from scipy.sparse import csr_matrix"
   ]
  },
  {
   "cell_type": "markdown",
   "id": "2b9cb873",
   "metadata": {},
   "source": [
    "We load the data"
   ]
  },
  {
   "cell_type": "code",
   "execution_count": 2,
   "id": "ef56f541",
   "metadata": {},
   "outputs": [],
   "source": [
    "path='/home/maggie/News_classifier/3.Data_Analysis_and_Visualizations/' \n",
    "\n",
    "with open(path + 'data.pickle', 'rb') as input_file:\n",
    "    data = pickle.load(input_file)"
   ]
  },
  {
   "cell_type": "code",
   "execution_count": 3,
   "id": "fa5eac13",
   "metadata": {},
   "outputs": [
    {
     "data": {
      "text/plain": [
       "(26047, 17)"
      ]
     },
     "execution_count": 3,
     "metadata": {},
     "output_type": "execute_result"
    }
   ],
   "source": [
    "data.shape"
   ]
  },
  {
   "cell_type": "code",
   "execution_count": 4,
   "id": "13843d67",
   "metadata": {},
   "outputs": [
    {
     "data": {
      "text/plain": [
       "Deportes                  5137\n",
       "Política                  5080\n",
       "Economía                  4573\n",
       "Internacional             3649\n",
       "Cultura y Espectáculos    3207\n",
       "Sociedad                  2827\n",
       "Policiales                1025\n",
       "Ciencia y tecnología       549\n",
       "Name: Label, dtype: int64"
      ]
     },
     "execution_count": 4,
     "metadata": {},
     "output_type": "execute_result"
    }
   ],
   "source": [
    "data.Label.value_counts()"
   ]
  },
  {
   "cell_type": "markdown",
   "id": "c3a6b69e",
   "metadata": {},
   "source": [
    "We will keep the labels Cultura y Espectáculos, Deportes, Economía, Internacional, Sociedad/Policiales and Política. We put together Sociedad and Policiales, because some newspapers put the crime articles in Sociedad and not in Policiales. We also do not keep the label Ciencia y Tecnología, because we do not have many articles to train."
   ]
  },
  {
   "cell_type": "code",
   "execution_count": 5,
   "id": "c5eb0c2c",
   "metadata": {},
   "outputs": [],
   "source": [
    "data=data.replace({'Label':{'Policiales':'Sociedad/Policiales','Sociedad':'Sociedad/Policiales'}})\n",
    "data=data[data.Label!='Ciencia y tecnología']"
   ]
  },
  {
   "cell_type": "code",
   "execution_count": 6,
   "id": "8d3f082d",
   "metadata": {},
   "outputs": [
    {
     "data": {
      "text/plain": [
       "Deportes                  5137\n",
       "Política                  5080\n",
       "Economía                  4573\n",
       "Sociedad/Policiales       3852\n",
       "Internacional             3649\n",
       "Cultura y Espectáculos    3207\n",
       "Name: Label, dtype: int64"
      ]
     },
     "execution_count": 6,
     "metadata": {},
     "output_type": "execute_result"
    }
   ],
   "source": [
    "data.Label.value_counts()"
   ]
  },
  {
   "cell_type": "code",
   "execution_count": 7,
   "id": "ed3566b9",
   "metadata": {},
   "outputs": [
    {
     "data": {
      "text/html": [
       "<div>\n",
       "<style scoped>\n",
       "    .dataframe tbody tr th:only-of-type {\n",
       "        vertical-align: middle;\n",
       "    }\n",
       "\n",
       "    .dataframe tbody tr th {\n",
       "        vertical-align: top;\n",
       "    }\n",
       "\n",
       "    .dataframe thead th {\n",
       "        text-align: right;\n",
       "    }\n",
       "</style>\n",
       "<table border=\"1\" class=\"dataframe\">\n",
       "  <thead>\n",
       "    <tr style=\"text-align: right;\">\n",
       "      <th></th>\n",
       "      <th>Label</th>\n",
       "      <th>Percentage</th>\n",
       "    </tr>\n",
       "  </thead>\n",
       "  <tbody>\n",
       "    <tr>\n",
       "      <th>5</th>\n",
       "      <td>Cultura y Espectáculos</td>\n",
       "      <td>12.577457</td>\n",
       "    </tr>\n",
       "    <tr>\n",
       "      <th>0</th>\n",
       "      <td>Deportes</td>\n",
       "      <td>20.146678</td>\n",
       "    </tr>\n",
       "    <tr>\n",
       "      <th>2</th>\n",
       "      <td>Economía</td>\n",
       "      <td>17.934740</td>\n",
       "    </tr>\n",
       "    <tr>\n",
       "      <th>4</th>\n",
       "      <td>Internacional</td>\n",
       "      <td>14.310926</td>\n",
       "    </tr>\n",
       "    <tr>\n",
       "      <th>1</th>\n",
       "      <td>Política</td>\n",
       "      <td>19.923131</td>\n",
       "    </tr>\n",
       "    <tr>\n",
       "      <th>3</th>\n",
       "      <td>Sociedad/Policiales</td>\n",
       "      <td>15.107067</td>\n",
       "    </tr>\n",
       "  </tbody>\n",
       "</table>\n",
       "</div>"
      ],
      "text/plain": [
       "                    Label  Percentage\n",
       "5  Cultura y Espectáculos   12.577457\n",
       "0                Deportes   20.146678\n",
       "2                Economía   17.934740\n",
       "4           Internacional   14.310926\n",
       "1                Política   19.923131\n",
       "3     Sociedad/Policiales   15.107067"
      ]
     },
     "execution_count": 7,
     "metadata": {},
     "output_type": "execute_result"
    }
   ],
   "source": [
    "percentages = data.Label.value_counts(normalize=True).mul(100).rename('Percentage').reset_index().sort_values('index')\n",
    "percentages.rename(columns={\"index\": \"Label\"},inplace=True)\n",
    "percentages"
   ]
  },
  {
   "cell_type": "code",
   "execution_count": 8,
   "id": "dcc8632a",
   "metadata": {},
   "outputs": [
    {
     "data": {
      "text/plain": [
       "<AxesSubplot:xlabel='Percentage', ylabel='Label'>"
      ]
     },
     "execution_count": 8,
     "metadata": {},
     "output_type": "execute_result"
    },
    {
     "data": {
      "image/png": "[encoded data removed]",
      "text/plain": [
       "<Figure size 432x288 with 1 Axes>"
      ]
     },
     "metadata": {
      "needs_background": "light"
     },
     "output_type": "display_data"
    }
   ],
   "source": [
    "sns.barplot(y=\"Label\", x='Percentage', data=percentages)"
   ]
  },
  {
   "cell_type": "markdown",
   "id": "426002fc",
   "metadata": {},
   "source": [
    "The classes are more or less balanced, so we will try to train the models without undersampling, or other techniques. We can check how our models are performing with some metrics like recall, precision, and F1-score."
   ]
  },
  {
   "cell_type": "markdown",
   "id": "cdb453aa",
   "metadata": {},
   "source": [
    "### Label Codes\n",
    "We codify the labels."
   ]
  },
  {
   "cell_type": "code",
   "execution_count": 9,
   "id": "b756c000",
   "metadata": {},
   "outputs": [],
   "source": [
    "#We create a dictionary\n",
    "label_codes={}\n",
    "num=0\n",
    "list_of_categories=data.sort_values('Label').Label.unique()\n",
    "for label in list_of_categories:\n",
    "    label_codes[label]=num\n",
    "    num+=1\n",
    "\n",
    "#Reverse dictionary    \n",
    "reversed_label_codes = {value : key for (key, value) in label_codes.items()}\n",
    "\n",
    "# Category mapping\n",
    "data['Label_code'] = data['Label']\n",
    "data= data.replace({'Label_code':label_codes})"
   ]
  },
  {
   "cell_type": "code",
   "execution_count": 10,
   "id": "8eb0cd35",
   "metadata": {},
   "outputs": [
    {
     "data": {
      "text/plain": [
       "{'Cultura y Espectáculos': 0,\n",
       " 'Deportes': 1,\n",
       " 'Economía': 2,\n",
       " 'Internacional': 3,\n",
       " 'Política': 4,\n",
       " 'Sociedad/Policiales': 5}"
      ]
     },
     "execution_count": 10,
     "metadata": {},
     "output_type": "execute_result"
    }
   ],
   "source": [
    "label_codes"
   ]
  },
  {
   "cell_type": "code",
   "execution_count": 11,
   "id": "174d54fb",
   "metadata": {},
   "outputs": [
    {
     "data": {
      "text/plain": [
       "{0: 'Cultura y Espectáculos',\n",
       " 1: 'Deportes',\n",
       " 2: 'Economía',\n",
       " 3: 'Internacional',\n",
       " 4: 'Política',\n",
       " 5: 'Sociedad/Policiales'}"
      ]
     },
     "execution_count": 11,
     "metadata": {},
     "output_type": "execute_result"
    }
   ],
   "source": [
    "reversed_label_codes"
   ]
  },
  {
   "cell_type": "markdown",
   "id": "393a724a",
   "metadata": {},
   "source": [
    "### Train-test split"
   ]
  },
  {
   "cell_type": "markdown",
   "id": "86e883b1",
   "metadata": {},
   "source": [
    " We are going to consider only news articles that have a length greater than 5 in the 'Texto_clean_lemmatized_and_stopwords_len' column, and we will keep the 30 percent of the dataset to test. We also keep the column 'Texto clean' in case we need to analyze what happens in the cases that the models predict poorly."
   ]
  },
  {
   "cell_type": "code",
   "execution_count": 12,
   "id": "c40f2cb7",
   "metadata": {},
   "outputs": [],
   "source": [
    "data=data[data['Texto_clean_lemmatized_and_stopwords_len']>5]\n",
    "X_train, X_test, y_train, y_test = train_test_split(data[['Texto_clean','Texto_clean_lemmatized_and_stopwords']], \n",
    "                                                    data['Label_code'], \n",
    "                                                    test_size=0.30, \n",
    "                                                    random_state=42)"
   ]
  },
  {
   "cell_type": "markdown",
   "id": "eb7bb8ac",
   "metadata": {},
   "source": [
    "### Text representation\n"
   ]
  },
  {
   "cell_type": "markdown",
   "id": "7e898fd6",
   "metadata": {},
   "source": [
    "We will use TF-IDF Vectors to represent the text. We will be working only with unigrams (ngram_range = (1,1)). We start with no limit on the maximum number of features (max_features = None) and we will ignore terms that have a document frequency strictly lower than 10 (min_df=10). We can change these parameters, for instance, to avoid overfitting."
   ]
  },
  {
   "cell_type": "code",
   "execution_count": 13,
   "id": "40e0a5d2",
   "metadata": {},
   "outputs": [],
   "source": [
    "# Parameter election - we can change them later\n",
    "ngram_range = (1,1) #for now we only work with unigrams\n",
    "min_df = 10  #we ignore terms that have a document frequency strictly lower 10 \n",
    "max_features=None #for now\n",
    "\n",
    "#tfidf object\n",
    "tfidf = TfidfVectorizer(ngram_range=ngram_range,\n",
    "                        lowercase=False,\n",
    "                        min_df=min_df,\n",
    "                        max_features=max_features,\n",
    "                        sublinear_tf=False)"
   ]
  },
  {
   "cell_type": "code",
   "execution_count": 7,
   "id": "61c0967a",
   "metadata": {},
   "outputs": [],
   "source": [
    "features_train = tfidf.fit_transform(X_train['Texto_clean_lemmatized_and_stopwords']).toarray()\n",
    "features_test = tfidf.transform(X_test['Texto_clean_lemmatized_and_stopwords']).toarray()\n"
   ]
  },
  {
   "cell_type": "code",
   "execution_count": 8,
   "id": "358ed665",
   "metadata": {},
   "outputs": [
    {
     "data": {
      "text/plain": [
       "(16728, 8257)"
      ]
     },
     "execution_count": 8,
     "metadata": {},
     "output_type": "execute_result"
    }
   ],
   "source": [
    "features_train.shape"
   ]
  },
  {
   "cell_type": "markdown",
   "id": "042bcdc2",
   "metadata": {},
   "source": [
    "We use chi2 from sklearn.feature_selection, which computes chi-squared stats between each non-negative feature and  class. We compute this to see which unigrams are most correlated with each category (highest values, more correlation)"
   ]
  },
  {
   "cell_type": "code",
   "execution_count": 16,
   "id": "8972bcdf",
   "metadata": {
    "scrolled": false
   },
   "outputs": [
    {
     "name": "stdout",
     "output_type": "stream",
     "text": [
      "Most correlated unigrams in Cultura y Espectáculos:\n",
      ". festival\n",
      ". libro\n",
      ". novela\n",
      ". netflix\n",
      ". estrenar\n",
      ". cantante\n",
      ". cine\n",
      ". película\n",
      ". artista\n",
      ". actor\n",
      "\n",
      "\n",
      "Most correlated unigrams in Deportes:\n",
      ". club\n",
      ". partido\n",
      ". fútbol\n",
      ". gol\n",
      ". boca\n",
      ". river\n",
      ". liga\n",
      ". equipo\n",
      ". jugar\n",
      ". copa\n",
      "\n",
      "\n",
      "Most correlated unigrams in Economía:\n",
      ". fmi\n",
      ". cotización\n",
      ". subir\n",
      ". mercado\n",
      ". cuánto\n",
      ". inflación\n",
      ". cotizar\n",
      ". blue\n",
      ". precio\n",
      ". dólar\n",
      "\n",
      "\n",
      "Most correlated unigrams in Internacional:\n",
      ". guerra\n",
      ". eeuu\n",
      ". militar\n",
      ". moscú\n",
      ". reuters\n",
      ". biden\n",
      ". kiev\n",
      ". putin\n",
      ". ucrania\n",
      ". rusia\n",
      "\n",
      "\n",
      "Most correlated unigrams in Política:\n",
      ". milei\n",
      ". fmi\n",
      ". bloque\n",
      ". gobernador\n",
      ". cristina\n",
      ". macri\n",
      ". kirchner\n",
      ". diputado\n",
      ". fernández\n",
      ". alberto\n",
      "\n",
      "\n",
      "Most correlated unigrams in Sociedad/Policiales:\n",
      ". homicidio\n",
      ". asesinar\n",
      ". crimen\n",
      ". acusado\n",
      ". femicidio\n",
      ". matar\n",
      ". joven\n",
      ". detenido\n",
      ". víctima\n",
      ". policía\n",
      "\n",
      "\n"
     ]
    }
   ],
   "source": [
    "list_of_categories=data.sort_values('Label').Label.unique()\n",
    "for label in list_of_categories:\n",
    "    #we compute the chi2 test between features_train, and labels_train==label_code for each newspaper.\n",
    "    features_chi2=chi2(features_train,y_train==label_codes[label])\n",
    "    indices=np.argsort(features_chi2[0])\n",
    "    features_names = np.array(tfidf.get_feature_names_out())[indices]\n",
    "    print(\"Most correlated unigrams in \" + label + \":\\n. {}\".format('\\n. '.join(features_names[-10:])))\n",
    "    print(\"\\n\")"
   ]
  },
  {
   "cell_type": "markdown",
   "id": "1f64696a",
   "metadata": {},
   "source": [
    "We observe that the unigrams effectively belong to their category."
   ]
  },
  {
   "cell_type": "markdown",
   "id": "a395ff24",
   "metadata": {},
   "source": [
    "We save the files that we will need to train the models."
   ]
  },
  {
   "cell_type": "code",
   "execution_count": 17,
   "id": "7c37f52c",
   "metadata": {},
   "outputs": [],
   "source": [
    "# X_train\n",
    "with open('X_train.pickle', 'wb') as output:\n",
    "    pickle.dump(X_train, output)\n",
    "    \n",
    "# X_test    \n",
    "with open('X_test.pickle', 'wb') as output:\n",
    "    pickle.dump(X_test, output)\n",
    "    \n",
    "# y_train\n",
    "with open('y_train.pickle', 'wb') as output:\n",
    "    pickle.dump(y_train, output)\n",
    "    \n",
    "# y_test\n",
    "with open('y_test.pickle', 'wb') as output:\n",
    "    pickle.dump(y_test, output)\n",
    "    \n",
    "# data\n",
    "with open('data_modified.pickle', 'wb') as output:\n",
    "    pickle.dump(data, output)\n",
    "\n",
    "# TF-IDF object\n",
    "with open('tfidf.pickle', 'wb') as output:\n",
    "    pickle.dump(tfidf, output)\n"
   ]
  },
  {
   "cell_type": "markdown",
   "id": "2664f374",
   "metadata": {},
   "source": [
    "As features_train and features_test are very large sparse arrays (mostly with zero entries), we will only store values with nonzero entries against their indices, using the method csr_matrix from scipy.sparse.\n"
   ]
  },
  {
   "cell_type": "code",
   "execution_count": 11,
   "id": "f5d80db2",
   "metadata": {},
   "outputs": [],
   "source": [
    "features_train = csr_matrix(features_train)\n",
    "features_test=csr_matrix(features_test)"
   ]
  },
  {
   "cell_type": "code",
   "execution_count": 12,
   "id": "bd12a5ba",
   "metadata": {},
   "outputs": [],
   "source": [
    "# features_train\n",
    "with open('features_train.pickle', 'wb') as output:\n",
    "    pickle.dump(features_train, output)\n",
    "\n",
    "# features_test\n",
    "with open('features_test.pickle', 'wb') as output:\n",
    "    pickle.dump(features_test, output)"
   ]
  }
 ],
 "metadata": {
  "kernelspec": {
   "display_name": "Python 3 (ipykernel)",
   "language": "python",
   "name": "python3"
  },
  "language_info": {
   "codemirror_mode": {
    "name": "ipython",
    "version": 3
   },
   "file_extension": ".py",
   "mimetype": "text/x-python",
   "name": "python",
   "nbconvert_exporter": "python",
   "pygments_lexer": "ipython3",
   "version": "3.9.7"
  }
 },
 "nbformat": 4,
 "nbformat_minor": 5
}
