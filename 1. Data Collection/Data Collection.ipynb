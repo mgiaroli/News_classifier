{
 "cells": [
  {
   "cell_type": "markdown",
   "id": "d1629305",
   "metadata": {},
   "source": [
    "# Data Collection"
   ]
  },
  {
   "cell_type": "markdown",
   "id": "2c60be7a",
   "metadata": {},
   "source": [
    "The first step of our project is data collection. We collected news articles from Argentine newspapers, in Spanish.\n",
    "We chose newspapers that have a RSS feed separated by categories. The newspapers are:\n",
    "\n",
    "- Ámbito Financiero\n",
    "- Clarín\n",
    "- Diario AR\n",
    "- Página 12\n",
    "- Perfil\n",
    "- Télam (not a newspaper but the Argentine national news agency) \n",
    "\n",
    "The categories that we initially chose are:\n",
    "\n",
    "- Ciencia y tecnología (Science and technology)\n",
    "- Cultura y Espectáculos (Culture and Shows)\n",
    "- Deportes (Sports)\n",
    "- Economía (Economy)\n",
    "- Internacional (International)\n",
    "- Policiales (Crime)\n",
    "- Política (Politics)\n",
    "- Sociedad (Society)\n",
    "\n",
    "To obtain our data, we made requests to the RSS webpages, in xml format, and we parsed that results using the library **lxml**. For each article, we saved the header (Título) and a short description (Descripción). We also saved the url link, the date, the newspaper and the category. Then we saved the data we obtained in a csv file.\n",
    "\n",
    "As the number of news that we collect in one run of the script was small, we make an update script to run multiple times and collect more articles. We collected news from November to March (not at regular intervals).\n",
    "\n",
    "The files in this folder are:\n",
    "\n",
    "- news_scraper.py - The initial script.\n",
    "- updatenews.py - The script to update the csv file, to collect more news.\n",
    "- news_data.csv - The csv file with the data collected.\n",
    "\n",
    "You will find the detailed code in those scripts."
   ]
  },
  {
   "cell_type": "code",
   "execution_count": null,
   "id": "2002c77c",
   "metadata": {},
   "outputs": [],
   "source": []
  }
 ],
 "metadata": {
  "kernelspec": {
   "display_name": "Python 3 (ipykernel)",
   "language": "python",
   "name": "python3"
  },
  "language_info": {
   "codemirror_mode": {
    "name": "ipython",
    "version": 3
   },
   "file_extension": ".py",
   "mimetype": "text/x-python",
   "name": "python",
   "nbconvert_exporter": "python",
   "pygments_lexer": "ipython3",
   "version": "3.9.7"
  }
 },
 "nbformat": 4,
 "nbformat_minor": 5
}
