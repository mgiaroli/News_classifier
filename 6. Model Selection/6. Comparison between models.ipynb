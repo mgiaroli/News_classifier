{
 "cells": [
  {
   "cell_type": "markdown",
   "id": "fd901df7",
   "metadata": {},
   "source": [
    "# Comparison between models"
   ]
  },
  {
   "cell_type": "code",
   "execution_count": 1,
   "id": "e58ce1ae",
   "metadata": {},
   "outputs": [],
   "source": [
    "import pickle\n",
    "from sklearn.naive_bayes import MultinomialNB\n",
    "from sklearn.neighbors import KNeighborsClassifier\n",
    "from sklearn.svm import LinearSVC\n",
    "from sklearn.linear_model import LogisticRegression\n",
    "from sklearn.calibration import CalibratedClassifierCV\n",
    "from pprint import pprint\n",
    "from sklearn.model_selection import GridSearchCV, KFold,cross_val_score\n",
    "from sklearn.metrics import classification_report, confusion_matrix, accuracy_score\n",
    "import matplotlib.pyplot as plt\n",
    "import seaborn as sns\n",
    "import numpy as np\n",
    "import pandas as pd"
   ]
  },
  {
   "cell_type": "markdown",
   "id": "c80e7989",
   "metadata": {},
   "source": [
    "We load the scores of the models."
   ]
  },
  {
   "cell_type": "code",
   "execution_count": 2,
   "id": "3c2496d4",
   "metadata": {},
   "outputs": [],
   "source": [
    "# knn scores\n",
    "with open('scores_knn.pickle', 'rb') as handle:\n",
    "    scores_knn = pickle.load(handle)\n",
    "\n",
    "# LinearSVC scores\n",
    "with open('scores_lsvc.pickle', 'rb') as handle:\n",
    "    scores_lsvc = pickle.load(handle)\n",
    "\n",
    "# LogisticRegression scores\n",
    "with open('scores_lr.pickle', 'rb') as handle:\n",
    "    scores_lr = pickle.load(handle)\n",
    "\n",
    "# Multinomial NB model\n",
    "with open('scores_nb.pickle', 'rb') as handle:\n",
    "    scores_nb= pickle.load(handle)"
   ]
  },
  {
   "cell_type": "code",
   "execution_count": 3,
   "id": "c38af9f7",
   "metadata": {},
   "outputs": [],
   "source": [
    "df_scores=pd.DataFrame([scores_knn,scores_lsvc,scores_lr,scores_nb])"
   ]
  },
  {
   "cell_type": "markdown",
   "id": "9c46238d",
   "metadata": {},
   "source": [
    "We sort our models by Test Set Accuracy:"
   ]
  },
  {
   "cell_type": "code",
   "execution_count": 4,
   "id": "e0a32ae0",
   "metadata": {},
   "outputs": [
    {
     "data": {
      "text/html": [
       "<style type=\"text/css\">\n",
       "</style>\n",
       "<table id=\"T_6f020_\">\n",
       "  <thead>\n",
       "    <tr>\n",
       "      <th class=\"col_heading level0 col0\" >Model</th>\n",
       "      <th class=\"col_heading level0 col1\" >Training Set Accuracy</th>\n",
       "      <th class=\"col_heading level0 col2\" >Test Set Accuracy</th>\n",
       "      <th class=\"col_heading level0 col3\" >Precision</th>\n",
       "      <th class=\"col_heading level0 col4\" >Recall</th>\n",
       "      <th class=\"col_heading level0 col5\" >F1-score</th>\n",
       "    </tr>\n",
       "  </thead>\n",
       "  <tbody>\n",
       "    <tr>\n",
       "      <td id=\"T_6f020_row0_col0\" class=\"data row0 col0\" >Linear Support Vector Classification</td>\n",
       "      <td id=\"T_6f020_row0_col1\" class=\"data row0 col1\" >0.910151</td>\n",
       "      <td id=\"T_6f020_row0_col2\" class=\"data row0 col2\" >0.859275</td>\n",
       "      <td id=\"T_6f020_row0_col3\" class=\"data row0 col3\" >0.856297</td>\n",
       "      <td id=\"T_6f020_row0_col4\" class=\"data row0 col4\" >0.857909</td>\n",
       "      <td id=\"T_6f020_row0_col5\" class=\"data row0 col5\" >0.856965</td>\n",
       "    </tr>\n",
       "    <tr>\n",
       "      <td id=\"T_6f020_row1_col0\" class=\"data row1 col0\" >Logistic Regression</td>\n",
       "      <td id=\"T_6f020_row1_col1\" class=\"data row1 col1\" >0.925933</td>\n",
       "      <td id=\"T_6f020_row1_col2\" class=\"data row1 col2\" >0.857462</td>\n",
       "      <td id=\"T_6f020_row1_col3\" class=\"data row1 col3\" >0.856070</td>\n",
       "      <td id=\"T_6f020_row1_col4\" class=\"data row1 col4\" >0.855700</td>\n",
       "      <td id=\"T_6f020_row1_col5\" class=\"data row1 col5\" >0.855722</td>\n",
       "    </tr>\n",
       "    <tr>\n",
       "      <td id=\"T_6f020_row2_col0\" class=\"data row2 col0\" >Multinomial Naive Bayes</td>\n",
       "      <td id=\"T_6f020_row2_col1\" class=\"data row2 col1\" >0.901602</td>\n",
       "      <td id=\"T_6f020_row2_col2\" class=\"data row2 col2\" >0.852720</td>\n",
       "      <td id=\"T_6f020_row2_col3\" class=\"data row2 col3\" >0.850176</td>\n",
       "      <td id=\"T_6f020_row2_col4\" class=\"data row2 col4\" >0.851622</td>\n",
       "      <td id=\"T_6f020_row2_col5\" class=\"data row2 col5\" >0.850637</td>\n",
       "    </tr>\n",
       "    <tr>\n",
       "      <td id=\"T_6f020_row3_col0\" class=\"data row3 col0\" >K Nearest Neighbors</td>\n",
       "      <td id=\"T_6f020_row3_col1\" class=\"data row3 col1\" >0.858022</td>\n",
       "      <td id=\"T_6f020_row3_col2\" class=\"data row3 col2\" >0.835704</td>\n",
       "      <td id=\"T_6f020_row3_col3\" class=\"data row3 col3\" >0.832575</td>\n",
       "      <td id=\"T_6f020_row3_col4\" class=\"data row3 col4\" >0.832121</td>\n",
       "      <td id=\"T_6f020_row3_col5\" class=\"data row3 col5\" >0.832213</td>\n",
       "    </tr>\n",
       "  </tbody>\n",
       "</table>\n"
      ],
      "text/plain": [
       "<pandas.io.formats.style.Styler at 0x7ff0ea30ad60>"
      ]
     },
     "execution_count": 4,
     "metadata": {},
     "output_type": "execute_result"
    }
   ],
   "source": [
    "df_scores.sort_values('Test Set Accuracy', ascending=False).style.hide_index()"
   ]
  },
  {
   "cell_type": "markdown",
   "id": "855e02a9",
   "metadata": {},
   "source": [
    "The first three models have a similar test accuracy, precision, recall and F1-score. The model K Nearest Neighbors has lower scores in all the categories. As the training set accuracy is also similar for the first three models, \n",
    "we choose the Linear Support Vector Classification, because it has the highest test accuracy."
   ]
  },
  {
   "cell_type": "code",
   "execution_count": null,
   "id": "7c964de6",
   "metadata": {},
   "outputs": [],
   "source": []
  }
 ],
 "metadata": {
  "kernelspec": {
   "display_name": "Python 3 (ipykernel)",
   "language": "python",
   "name": "python3"
  },
  "language_info": {
   "codemirror_mode": {
    "name": "ipython",
    "version": 3
   },
   "file_extension": ".py",
   "mimetype": "text/x-python",
   "name": "python",
   "nbconvert_exporter": "python",
   "pygments_lexer": "ipython3",
   "version": "3.9.7"
  }
 },
 "nbformat": 4,
 "nbformat_minor": 5
}
