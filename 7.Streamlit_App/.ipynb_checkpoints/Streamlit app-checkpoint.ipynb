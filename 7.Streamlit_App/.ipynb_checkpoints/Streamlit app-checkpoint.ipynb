{
 "cells": [
  {
   "cell_type": "markdown",
   "id": "8c70e665",
   "metadata": {},
   "source": [
    "# Streamlit app\n",
    "\n",
    "The last step of our project is develop a web application to try our model. For the ease of use, and no front-end experience required, we chose [**Streamlit**](https://streamlit.io/).\n",
    "\n",
    "The application is very simple. Requieres that the user enter the title and a short description of an article, and then the app will predict the category, and show the probabilities for each of the categories.\n",
    "\n",
    "The files in this folder are:\n",
    "\n",
    "- createfeatures.py - Scrip that allow us to create the features given text input.\n",
    "- news_streamlit.py - Script of the streamlit application."
   ]
  }
 ],
 "metadata": {
  "kernelspec": {
   "display_name": "Python 3 (ipykernel)",
   "language": "python",
   "name": "python3"
  },
  "language_info": {
   "codemirror_mode": {
    "name": "ipython",
    "version": 3
   },
   "file_extension": ".py",
   "mimetype": "text/x-python",
   "name": "python",
   "nbconvert_exporter": "python",
   "pygments_lexer": "ipython3",
   "version": "3.9.7"
  }
 },
 "nbformat": 4,
 "nbformat_minor": 5
}
