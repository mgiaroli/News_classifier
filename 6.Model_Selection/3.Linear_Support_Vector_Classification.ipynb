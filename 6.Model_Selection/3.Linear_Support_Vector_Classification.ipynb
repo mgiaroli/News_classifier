{
 "cells": [
  {
   "cell_type": "markdown",
   "id": "4dbd59ce",
   "metadata": {},
   "source": [
    "# Linear Support Vector Classification\n",
    "\n",
    "In this notebook, we will try the model [Linear Support Vector Classification](https://scikit-learn.org/stable/modules/generated/sklearn.svm.LinearSVC.html#sklearn.svm.LinearSVC)."
   ]
  },
  {
   "cell_type": "code",
   "execution_count": 1,
   "id": "f809143f",
   "metadata": {},
   "outputs": [],
   "source": [
    "import pickle\n",
    "from sklearn.svm import LinearSVC\n",
    "from sklearn.calibration import CalibratedClassifierCV\n",
    "from pprint import pprint\n",
    "from sklearn.model_selection import GridSearchCV\n",
    "from sklearn.metrics import classification_report, confusion_matrix, accuracy_score\n",
    "import matplotlib.pyplot as plt\n",
    "import seaborn as sns"
   ]
  },
  {
   "cell_type": "markdown",
   "id": "ac15c0d8",
   "metadata": {},
   "source": [
    "We load our data"
   ]
  },
  {
   "cell_type": "code",
   "execution_count": 2,
   "id": "6ed67ab8",
   "metadata": {},
   "outputs": [],
   "source": [
    "path='/home/maggie/News_classifier/4.Features_Creation/' \n",
    "\n",
    "# data\n",
    "with open(path + 'data_modified.pickle', 'rb') as file:\n",
    "    data=pickle.load(file)\n",
    "\n",
    "# features_train\n",
    "with open(path + 'features_train.pickle', 'rb') as file:\n",
    "    features_train=pickle.load(file)\n",
    "\n",
    "# features_test\n",
    "with open(path + 'features_test.pickle', 'rb') as file:\n",
    "    features_test=pickle.load(file)\n",
    "    \n",
    "# y_train\n",
    "with open(path + 'y_train.pickle', 'rb') as file:\n",
    "    y_train=pickle.load(file)\n",
    "    \n",
    "# y_test\n",
    "with open(path + 'y_test.pickle', 'rb') as file:\n",
    "    y_test=pickle.load(file)"
   ]
  },
  {
   "cell_type": "code",
   "execution_count": 3,
   "id": "ece73918",
   "metadata": {},
   "outputs": [
    {
     "name": "stdout",
     "output_type": "stream",
     "text": [
      "(16728, 8257)\n",
      "(7170, 8257)\n"
     ]
    }
   ],
   "source": [
    "print(features_train.shape)\n",
    "print(features_test.shape)"
   ]
  },
  {
   "cell_type": "markdown",
   "id": "d560b413",
   "metadata": {},
   "source": [
    "## Hyperparameter tuning"
   ]
  },
  {
   "cell_type": "code",
   "execution_count": 4,
   "id": "d0227bde",
   "metadata": {},
   "outputs": [
    {
     "name": "stdout",
     "output_type": "stream",
     "text": [
      "Parameters:\n",
      "\n",
      "{'C': 1.0,\n",
      " 'class_weight': None,\n",
      " 'dual': True,\n",
      " 'fit_intercept': True,\n",
      " 'intercept_scaling': 1,\n",
      " 'loss': 'squared_hinge',\n",
      " 'max_iter': 1000,\n",
      " 'multi_class': 'ovr',\n",
      " 'penalty': 'l2',\n",
      " 'random_state': 42,\n",
      " 'tol': 0.0001,\n",
      " 'verbose': 0}\n"
     ]
    }
   ],
   "source": [
    "lsvc0 =LinearSVC(random_state=42)\n",
    "\n",
    "print('Parameters:\\n')\n",
    "pprint(lsvc0.get_params())"
   ]
  },
  {
   "cell_type": "markdown",
   "id": "946f2291",
   "metadata": {},
   "source": [
    "We will tune only the following parameter:\n",
    "\n",
    "**C**=Regularization parameter. The strength of the regularization is inversely proportional to C "
   ]
  },
  {
   "cell_type": "code",
   "execution_count": 5,
   "id": "7a01d61e",
   "metadata": {
    "scrolled": true
   },
   "outputs": [
    {
     "name": "stdout",
     "output_type": "stream",
     "text": [
      "Fitting 5 folds for each of 6 candidates, totalling 30 fits\n",
      "[CV 1/5; 1/6] START C=0.0001....................................................\n",
      "[CV 1/5; 1/6] END .....................C=0.0001;, score=0.357 total time=   0.1s\n",
      "[CV 2/5; 1/6] START C=0.0001....................................................\n",
      "[CV 2/5; 1/6] END .....................C=0.0001;, score=0.363 total time=   0.1s\n",
      "[CV 3/5; 1/6] START C=0.0001....................................................\n",
      "[CV 3/5; 1/6] END .....................C=0.0001;, score=0.364 total time=   0.1s\n",
      "[CV 4/5; 1/6] START C=0.0001....................................................\n",
      "[CV 4/5; 1/6] END .....................C=0.0001;, score=0.362 total time=   0.2s\n",
      "[CV 5/5; 1/6] START C=0.0001....................................................\n",
      "[CV 5/5; 1/6] END .....................C=0.0001;, score=0.354 total time=   0.2s\n",
      "[CV 1/5; 2/6] START C=0.001.....................................................\n",
      "[CV 1/5; 2/6] END ......................C=0.001;, score=0.556 total time=   0.1s\n",
      "[CV 2/5; 2/6] START C=0.001.....................................................\n",
      "[CV 2/5; 2/6] END ......................C=0.001;, score=0.556 total time=   0.1s\n",
      "[CV 3/5; 2/6] START C=0.001.....................................................\n",
      "[CV 3/5; 2/6] END ......................C=0.001;, score=0.562 total time=   0.1s\n",
      "[CV 4/5; 2/6] START C=0.001.....................................................\n",
      "[CV 4/5; 2/6] END ......................C=0.001;, score=0.559 total time=   0.1s\n",
      "[CV 5/5; 2/6] START C=0.001.....................................................\n",
      "[CV 5/5; 2/6] END ......................C=0.001;, score=0.561 total time=   0.1s\n",
      "[CV 1/5; 3/6] START C=0.01......................................................\n",
      "[CV 1/5; 3/6] END .......................C=0.01;, score=0.811 total time=   0.2s\n",
      "[CV 2/5; 3/6] START C=0.01......................................................\n",
      "[CV 2/5; 3/6] END .......................C=0.01;, score=0.804 total time=   0.2s\n",
      "[CV 3/5; 3/6] START C=0.01......................................................\n",
      "[CV 3/5; 3/6] END .......................C=0.01;, score=0.811 total time=   0.2s\n",
      "[CV 4/5; 3/6] START C=0.01......................................................\n",
      "[CV 4/5; 3/6] END .......................C=0.01;, score=0.806 total time=   0.1s\n",
      "[CV 5/5; 3/6] START C=0.01......................................................\n",
      "[CV 5/5; 3/6] END .......................C=0.01;, score=0.811 total time=   0.2s\n",
      "[CV 1/5; 4/6] START C=0.1.......................................................\n",
      "[CV 1/5; 4/6] END ........................C=0.1;, score=0.856 total time=   0.2s\n",
      "[CV 2/5; 4/6] START C=0.1.......................................................\n",
      "[CV 2/5; 4/6] END ........................C=0.1;, score=0.854 total time=   0.2s\n",
      "[CV 3/5; 4/6] START C=0.1.......................................................\n",
      "[CV 3/5; 4/6] END ........................C=0.1;, score=0.865 total time=   0.2s\n",
      "[CV 4/5; 4/6] START C=0.1.......................................................\n",
      "[CV 4/5; 4/6] END ........................C=0.1;, score=0.854 total time=   0.2s\n",
      "[CV 5/5; 4/6] START C=0.1.......................................................\n",
      "[CV 5/5; 4/6] END ........................C=0.1;, score=0.857 total time=   0.1s\n",
      "[CV 1/5; 5/6] START C=1.........................................................\n",
      "[CV 1/5; 5/6] END ..........................C=1;, score=0.852 total time=   0.2s\n",
      "[CV 2/5; 5/6] START C=1.........................................................\n",
      "[CV 2/5; 5/6] END ..........................C=1;, score=0.850 total time=   0.2s\n",
      "[CV 3/5; 5/6] START C=1.........................................................\n",
      "[CV 3/5; 5/6] END ..........................C=1;, score=0.855 total time=   0.2s\n",
      "[CV 4/5; 5/6] START C=1.........................................................\n",
      "[CV 4/5; 5/6] END ..........................C=1;, score=0.853 total time=   0.3s\n",
      "[CV 5/5; 5/6] START C=1.........................................................\n",
      "[CV 5/5; 5/6] END ..........................C=1;, score=0.851 total time=   0.2s\n",
      "[CV 1/5; 6/6] START C=10........................................................\n",
      "[CV 1/5; 6/6] END .........................C=10;, score=0.811 total time=   1.0s\n",
      "[CV 2/5; 6/6] START C=10........................................................\n",
      "[CV 2/5; 6/6] END .........................C=10;, score=0.818 total time=   1.1s\n",
      "[CV 3/5; 6/6] START C=10........................................................\n",
      "[CV 3/5; 6/6] END .........................C=10;, score=0.827 total time=   0.9s\n",
      "[CV 4/5; 6/6] START C=10........................................................\n",
      "[CV 4/5; 6/6] END .........................C=10;, score=0.823 total time=   0.9s\n",
      "[CV 5/5; 6/6] START C=10........................................................\n",
      "[CV 5/5; 6/6] END .........................C=10;, score=0.822 total time=   0.9s\n"
     ]
    },
    {
     "data": {
      "text/plain": [
       "GridSearchCV(estimator=LinearSVC(random_state=42),\n",
       "             param_grid={'C': [0.0001, 0.001, 0.01, 0.1, 1, 10]},\n",
       "             scoring='accuracy', verbose=12)"
      ]
     },
     "execution_count": 5,
     "metadata": {},
     "output_type": "execute_result"
    }
   ],
   "source": [
    "# Create the parameter grid \n",
    "#C \n",
    "C=[0.0001,0.001,0.01,0.1,1,10]\n",
    "\n",
    "param_grid = {\n",
    "'C': C,\n",
    "}\n",
    "\n",
    "# Base model\n",
    "lsvc =LinearSVC(random_state=42)\n",
    "\n",
    "\n",
    "# Grid search model\n",
    "grid_search = GridSearchCV(estimator=lsvc, \n",
    "                            param_grid=param_grid,\n",
    "                            scoring='accuracy',\n",
    "                            verbose=12)\n",
    "\n",
    "# Fit the grid search to the data\n",
    "grid_search.fit(features_train, y_train)"
   ]
  },
  {
   "cell_type": "code",
   "execution_count": 6,
   "id": "83b821e3",
   "metadata": {},
   "outputs": [
    {
     "name": "stdout",
     "output_type": "stream",
     "text": [
      "The best hyperparameters from GridSearchCV are:\n",
      "{'C': 0.1}\n",
      "\n",
      "The mean accuracy of a LinearSVC model with these hyperparameters is:\n",
      "0.8570059960490941\n"
     ]
    }
   ],
   "source": [
    "print(\"The best hyperparameters from GridSearchCV are:\")\n",
    "print(grid_search.best_params_)\n",
    "print(\"\")\n",
    "print(\"The mean accuracy of a LinearSVC model with these hyperparameters is:\")\n",
    "print(grid_search.best_score_)"
   ]
  },
  {
   "cell_type": "markdown",
   "id": "8f9019af",
   "metadata": {},
   "source": [
    "We save the model with the best hyperparameters"
   ]
  },
  {
   "cell_type": "code",
   "execution_count": 7,
   "id": "3105b024",
   "metadata": {},
   "outputs": [],
   "source": [
    "best_lsvc= grid_search.best_estimator_"
   ]
  },
  {
   "cell_type": "markdown",
   "id": "ea8e03da",
   "metadata": {},
   "source": [
    "The class LinearSVC does not have the method predict_proba, so we use CalibratedClassifierCV."
   ]
  },
  {
   "cell_type": "code",
   "execution_count": 8,
   "id": "30fb5c2c",
   "metadata": {},
   "outputs": [],
   "source": [
    "best_lsvc = CalibratedClassifierCV(best_lsvc)"
   ]
  },
  {
   "cell_type": "markdown",
   "id": "f5a642db",
   "metadata": {},
   "source": [
    "## Model fit\n",
    "\n",
    "We fit the model to the training data."
   ]
  },
  {
   "cell_type": "code",
   "execution_count": 9,
   "id": "49eda590",
   "metadata": {},
   "outputs": [
    {
     "data": {
      "text/plain": [
       "CalibratedClassifierCV(base_estimator=LinearSVC(C=0.1, random_state=42))"
      ]
     },
     "execution_count": 9,
     "metadata": {},
     "output_type": "execute_result"
    }
   ],
   "source": [
    "best_lsvc.fit(features_train, y_train)"
   ]
  },
  {
   "cell_type": "markdown",
   "id": "181d95f2",
   "metadata": {},
   "source": [
    "## Model performance"
   ]
  },
  {
   "cell_type": "markdown",
   "id": "d8e383ed",
   "metadata": {},
   "source": [
    "### - Training accuracy"
   ]
  },
  {
   "cell_type": "code",
   "execution_count": 10,
   "id": "9a78747c",
   "metadata": {},
   "outputs": [
    {
     "name": "stdout",
     "output_type": "stream",
     "text": [
      "The training accuracy  is: \n",
      "0.9101506456241033\n"
     ]
    }
   ],
   "source": [
    "print(\"The training accuracy  is: \")\n",
    "accuracy_train=accuracy_score(y_train,best_lsvc.predict(features_train))\n",
    "print(accuracy_train)"
   ]
  },
  {
   "cell_type": "markdown",
   "id": "d95690c0",
   "metadata": {},
   "source": [
    "### - Test accuracy"
   ]
  },
  {
   "cell_type": "code",
   "execution_count": 11,
   "id": "fd87983e",
   "metadata": {},
   "outputs": [
    {
     "name": "stdout",
     "output_type": "stream",
     "text": [
      "The test accuracy is: \n",
      "0.8592747559274756\n"
     ]
    }
   ],
   "source": [
    "print(\"The test accuracy is: \")\n",
    "lsvc_pred = best_lsvc.predict(features_test)\n",
    "accuracy_test=accuracy_score(y_test, lsvc_pred)\n",
    "print(accuracy_test)"
   ]
  },
  {
   "cell_type": "markdown",
   "id": "e62d719b",
   "metadata": {},
   "source": [
    "### - Classification report and confusion matrix"
   ]
  },
  {
   "cell_type": "code",
   "execution_count": 12,
   "id": "0dd4cd9a",
   "metadata": {},
   "outputs": [
    {
     "name": "stdout",
     "output_type": "stream",
     "text": [
      "Classification report\n",
      "              precision    recall  f1-score   support\n",
      "\n",
      "           0       0.90      0.91      0.90       904\n",
      "           1       0.96      0.96      0.96      1448\n",
      "           2       0.84      0.86      0.85      1276\n",
      "           3       0.83      0.83      0.83      1073\n",
      "           4       0.84      0.80      0.82      1392\n",
      "           5       0.76      0.79      0.78      1077\n",
      "\n",
      "    accuracy                           0.86      7170\n",
      "   macro avg       0.86      0.86      0.86      7170\n",
      "weighted avg       0.86      0.86      0.86      7170\n",
      "\n"
     ]
    },
    {
     "data": {
      "image/png": "[encoded data removed]",
      "text/plain": [
       "<Figure size 921.6x432 with 2 Axes>"
      ]
     },
     "metadata": {
      "needs_background": "light"
     },
     "output_type": "display_data"
    }
   ],
   "source": [
    "#Classification report\n",
    "print(\"Classification report\")\n",
    "print(classification_report(y_test,lsvc_pred))\n",
    "\n",
    "\n",
    "#Confusion matrix\n",
    "aux_data = data[['Label', 'Label_code']].drop_duplicates().sort_values('Label_code')\n",
    "conf_matrix = confusion_matrix(y_test, lsvc_pred,normalize='true')\n",
    "plt.figure(figsize=(12.8,6))\n",
    "sns.heatmap(conf_matrix, annot=True,\n",
    "            xticklabels=aux_data['Label'], \n",
    "            yticklabels=aux_data['Label'],\n",
    "            cmap=\"Greens\")\n",
    "plt.ylabel('Predicted')\n",
    "plt.xlabel('Actual')\n",
    "plt.title('Confusion matrix')\n",
    "plt.show()"
   ]
  },
  {
   "cell_type": "markdown",
   "id": "187fa663",
   "metadata": {},
   "source": [
    "We save our model."
   ]
  },
  {
   "cell_type": "code",
   "execution_count": 13,
   "id": "772e508f",
   "metadata": {},
   "outputs": [],
   "source": [
    "with open('best_lsvc.pickle', 'wb') as output:\n",
    "    pickle.dump(best_lsvc, output)"
   ]
  },
  {
   "cell_type": "markdown",
   "id": "307e4732",
   "metadata": {},
   "source": [
    "We also save the scores for the different metrics we considered. In the case of precision, recall and F1-score we use macro average (averaging the unweighted mean per label)."
   ]
  },
  {
   "cell_type": "code",
   "execution_count": 14,
   "id": "514ddb7b",
   "metadata": {},
   "outputs": [],
   "source": [
    "classification_report_macro=classification_report(y_test,lsvc_pred,output_dict=True)['macro avg']\n",
    "scores_lsvc = {\n",
    "     'Model': 'Linear Support Vector Classification',\n",
    "     'Training Set Accuracy': accuracy_train,\n",
    "     'Test Set Accuracy': accuracy_test,\n",
    "     'Precision':classification_report_macro['precision'],\n",
    "    'Recall':classification_report_macro['recall'],\n",
    "    'F1-score':classification_report_macro['f1-score']\n",
    "}"
   ]
  },
  {
   "cell_type": "code",
   "execution_count": 15,
   "id": "496247eb",
   "metadata": {},
   "outputs": [
    {
     "data": {
      "text/plain": [
       "{'Model': 'Linear Support Vector Classification',\n",
       " 'Training Set Accuracy': 0.9101506456241033,\n",
       " 'Test Set Accuracy': 0.8592747559274756,\n",
       " 'Precision': 0.8562973725478442,\n",
       " 'Recall': 0.8579086557182035,\n",
       " 'F1-score': 0.8569654836919746}"
      ]
     },
     "execution_count": 15,
     "metadata": {},
     "output_type": "execute_result"
    }
   ],
   "source": [
    "scores_lsvc"
   ]
  },
  {
   "cell_type": "code",
   "execution_count": 16,
   "id": "7699fd75",
   "metadata": {},
   "outputs": [],
   "source": [
    "with open('scores_lsvc.pickle', 'wb') as handle:\n",
    "    pickle.dump(scores_lsvc, handle, protocol=pickle.HIGHEST_PROTOCOL)"
   ]
  }
 ],
 "metadata": {
  "kernelspec": {
   "display_name": "Python 3 (ipykernel)",
   "language": "python",
   "name": "python3"
  },
  "language_info": {
   "codemirror_mode": {
    "name": "ipython",
    "version": 3
   },
   "file_extension": ".py",
   "mimetype": "text/x-python",
   "name": "python",
   "nbconvert_exporter": "python",
   "pygments_lexer": "ipython3",
   "version": "3.9.7"
  }
 },
 "nbformat": 4,
 "nbformat_minor": 5
}
