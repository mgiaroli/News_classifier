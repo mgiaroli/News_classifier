{
 "cells": [
  {
   "cell_type": "markdown",
   "id": "3dd54477",
   "metadata": {},
   "source": [
    "# Multinomial Naive Bayes\n",
    "\n",
    "In this notebook, we will try the model [Multinomial Naive Bayes](https://scikit-learn.org/stable/modules/generated/sklearn.naive_bayes.MultinomialNB.html)."
   ]
  },
  {
   "cell_type": "code",
   "execution_count": 1,
   "id": "7fae9db9",
   "metadata": {},
   "outputs": [],
   "source": [
    "import pickle\n",
    "from sklearn.naive_bayes import MultinomialNB\n",
    "from pprint import pprint\n",
    "from sklearn.model_selection import GridSearchCV\n",
    "from sklearn.metrics import classification_report, confusion_matrix, accuracy_score\n",
    "import matplotlib.pyplot as plt\n",
    "import seaborn as sns"
   ]
  },
  {
   "cell_type": "markdown",
   "id": "bcc925bf",
   "metadata": {},
   "source": [
    "We load our data:"
   ]
  },
  {
   "cell_type": "code",
   "execution_count": 2,
   "id": "38bb43a2",
   "metadata": {},
   "outputs": [],
   "source": [
    "path='/home/maggie/News_classifier/4. Features Creation/' \n",
    "\n",
    "# data\n",
    "with open(path + 'data_modified.pickle', 'rb') as file:\n",
    "    data=pickle.load(file)\n",
    "\n",
    "# features_train\n",
    "with open(path + 'features_train.pickle', 'rb') as file:\n",
    "    features_train=pickle.load(file)\n",
    "\n",
    "# features_test\n",
    "with open(path + 'features_test.pickle', 'rb') as file:\n",
    "    features_test=pickle.load(file)\n",
    "    \n",
    "# y_train\n",
    "with open(path + 'y_train.pickle', 'rb') as file:\n",
    "    y_train=pickle.load(file)\n",
    "    \n",
    "# y_test\n",
    "with open(path + 'y_test.pickle', 'rb') as file:\n",
    "    y_test=pickle.load(file)\n"
   ]
  },
  {
   "cell_type": "code",
   "execution_count": 3,
   "id": "93c470f0",
   "metadata": {},
   "outputs": [
    {
     "name": "stdout",
     "output_type": "stream",
     "text": [
      "(16728, 8257)\n",
      "(7170, 8257)\n"
     ]
    }
   ],
   "source": [
    "print(features_train.shape)\n",
    "print(features_test.shape)"
   ]
  },
  {
   "cell_type": "markdown",
   "id": "2dce3369",
   "metadata": {},
   "source": [
    "## Hyperparameter tuning"
   ]
  },
  {
   "cell_type": "code",
   "execution_count": 4,
   "id": "24268c1b",
   "metadata": {},
   "outputs": [
    {
     "name": "stdout",
     "output_type": "stream",
     "text": [
      "Parameters:\n",
      "\n",
      "{'alpha': 1.0, 'class_prior': None, 'fit_prior': True}\n"
     ]
    }
   ],
   "source": [
    "nb0 = MultinomialNB()\n",
    "\n",
    "print('Parameters:\\n')\n",
    "pprint(nb0.get_params())"
   ]
  },
  {
   "cell_type": "markdown",
   "id": "b84ede7e",
   "metadata": {},
   "source": [
    "We will tune only the following parameter:\n",
    "\n",
    "**alpha** = Additive smoothing parameter (0 for no smoothing)."
   ]
  },
  {
   "cell_type": "code",
   "execution_count": 5,
   "id": "8433586f",
   "metadata": {
    "scrolled": true
   },
   "outputs": [
    {
     "name": "stdout",
     "output_type": "stream",
     "text": [
      "Fitting 5 folds for each of 7 candidates, totalling 35 fits\n",
      "[CV 1/5; 1/7] START alpha=1e-05.................................................\n",
      "[CV 1/5; 1/7] END ..................alpha=1e-05;, score=0.834 total time=   0.0s\n",
      "[CV 2/5; 1/7] START alpha=1e-05.................................................\n",
      "[CV 2/5; 1/7] END ..................alpha=1e-05;, score=0.829 total time=   0.0s\n",
      "[CV 3/5; 1/7] START alpha=1e-05.................................................\n",
      "[CV 3/5; 1/7] END ..................alpha=1e-05;, score=0.831 total time=   0.0s\n",
      "[CV 4/5; 1/7] START alpha=1e-05.................................................\n",
      "[CV 4/5; 1/7] END ..................alpha=1e-05;, score=0.827 total time=   0.0s\n",
      "[CV 5/5; 1/7] START alpha=1e-05.................................................\n",
      "[CV 5/5; 1/7] END ..................alpha=1e-05;, score=0.838 total time=   0.0s\n",
      "[CV 1/5; 2/7] START alpha=0.0001................................................\n",
      "[CV 1/5; 2/7] END .................alpha=0.0001;, score=0.840 total time=   0.0s\n",
      "[CV 2/5; 2/7] START alpha=0.0001................................................\n",
      "[CV 2/5; 2/7] END .................alpha=0.0001;, score=0.835 total time=   0.0s\n",
      "[CV 3/5; 2/7] START alpha=0.0001................................................\n",
      "[CV 3/5; 2/7] END .................alpha=0.0001;, score=0.835 total time=   0.0s\n",
      "[CV 4/5; 2/7] START alpha=0.0001................................................\n",
      "[CV 4/5; 2/7] END .................alpha=0.0001;, score=0.833 total time=   0.0s\n",
      "[CV 5/5; 2/7] START alpha=0.0001................................................\n",
      "[CV 5/5; 2/7] END .................alpha=0.0001;, score=0.842 total time=   0.0s\n",
      "[CV 1/5; 3/7] START alpha=0.001.................................................\n",
      "[CV 1/5; 3/7] END ..................alpha=0.001;, score=0.845 total time=   0.0s\n",
      "[CV 2/5; 3/7] START alpha=0.001.................................................\n",
      "[CV 2/5; 3/7] END ..................alpha=0.001;, score=0.840 total time=   0.0s\n",
      "[CV 3/5; 3/7] START alpha=0.001.................................................\n",
      "[CV 3/5; 3/7] END ..................alpha=0.001;, score=0.842 total time=   0.0s\n",
      "[CV 4/5; 3/7] START alpha=0.001.................................................\n",
      "[CV 4/5; 3/7] END ..................alpha=0.001;, score=0.839 total time=   0.0s\n",
      "[CV 5/5; 3/7] START alpha=0.001.................................................\n",
      "[CV 5/5; 3/7] END ..................alpha=0.001;, score=0.848 total time=   0.0s\n",
      "[CV 1/5; 4/7] START alpha=0.01..................................................\n",
      "[CV 1/5; 4/7] END ...................alpha=0.01;, score=0.849 total time=   0.0s\n",
      "[CV 2/5; 4/7] START alpha=0.01..................................................\n",
      "[CV 2/5; 4/7] END ...................alpha=0.01;, score=0.845 total time=   0.0s\n",
      "[CV 3/5; 4/7] START alpha=0.01..................................................\n",
      "[CV 3/5; 4/7] END ...................alpha=0.01;, score=0.851 total time=   0.0s\n",
      "[CV 4/5; 4/7] START alpha=0.01..................................................\n",
      "[CV 4/5; 4/7] END ...................alpha=0.01;, score=0.840 total time=   0.0s\n",
      "[CV 5/5; 4/7] START alpha=0.01..................................................\n",
      "[CV 5/5; 4/7] END ...................alpha=0.01;, score=0.854 total time=   0.0s\n",
      "[CV 1/5; 5/7] START alpha=0.1...................................................\n",
      "[CV 1/5; 5/7] END ....................alpha=0.1;, score=0.847 total time=   0.0s\n",
      "[CV 2/5; 5/7] START alpha=0.1...................................................\n",
      "[CV 2/5; 5/7] END ....................alpha=0.1;, score=0.848 total time=   0.0s\n",
      "[CV 3/5; 5/7] START alpha=0.1...................................................\n",
      "[CV 3/5; 5/7] END ....................alpha=0.1;, score=0.850 total time=   0.0s\n",
      "[CV 4/5; 5/7] START alpha=0.1...................................................\n",
      "[CV 4/5; 5/7] END ....................alpha=0.1;, score=0.848 total time=   0.0s\n",
      "[CV 5/5; 5/7] START alpha=0.1...................................................\n",
      "[CV 5/5; 5/7] END ....................alpha=0.1;, score=0.858 total time=   0.0s\n",
      "[CV 1/5; 6/7] START alpha=1.....................................................\n",
      "[CV 1/5; 6/7] END ......................alpha=1;, score=0.840 total time=   0.0s\n",
      "[CV 2/5; 6/7] START alpha=1.....................................................\n",
      "[CV 2/5; 6/7] END ......................alpha=1;, score=0.837 total time=   0.0s\n",
      "[CV 3/5; 6/7] START alpha=1.....................................................\n",
      "[CV 3/5; 6/7] END ......................alpha=1;, score=0.842 total time=   0.0s\n",
      "[CV 4/5; 6/7] START alpha=1.....................................................\n",
      "[CV 4/5; 6/7] END ......................alpha=1;, score=0.840 total time=   0.0s\n",
      "[CV 5/5; 6/7] START alpha=1.....................................................\n",
      "[CV 5/5; 6/7] END ......................alpha=1;, score=0.844 total time=   0.0s\n",
      "[CV 1/5; 7/7] START alpha=10....................................................\n",
      "[CV 1/5; 7/7] END .....................alpha=10;, score=0.746 total time=   0.0s\n",
      "[CV 2/5; 7/7] START alpha=10....................................................\n",
      "[CV 2/5; 7/7] END .....................alpha=10;, score=0.737 total time=   0.0s\n",
      "[CV 3/5; 7/7] START alpha=10....................................................\n",
      "[CV 3/5; 7/7] END .....................alpha=10;, score=0.751 total time=   0.0s\n",
      "[CV 4/5; 7/7] START alpha=10....................................................\n",
      "[CV 4/5; 7/7] END .....................alpha=10;, score=0.751 total time=   0.0s\n",
      "[CV 5/5; 7/7] START alpha=10....................................................\n",
      "[CV 5/5; 7/7] END .....................alpha=10;, score=0.761 total time=   0.0s\n"
     ]
    },
    {
     "data": {
      "text/plain": [
       "GridSearchCV(estimator=MultinomialNB(),\n",
       "             param_grid={'alpha': [1e-05, 0.0001, 0.001, 0.01, 0.1, 1, 10]},\n",
       "             scoring='accuracy', verbose=12)"
      ]
     },
     "execution_count": 5,
     "metadata": {},
     "output_type": "execute_result"
    }
   ],
   "source": [
    "# Create the parameter grid \n",
    "#n_neighbors \n",
    "alpha=[0.00001,0.0001,0.001,0.01,0.1,1,10]\n",
    "\n",
    "param_grid = {\n",
    "'alpha': alpha}\n",
    "\n",
    "# Base model\n",
    "nb = MultinomialNB()\n",
    "\n",
    "# Grid search model\n",
    "grid_search = GridSearchCV(estimator=nb, \n",
    "                            param_grid=param_grid,\n",
    "                            scoring='accuracy',\n",
    "                            verbose=12)\n",
    "\n",
    "# Fit the grid search to the data\n",
    "grid_search.fit(features_train, y_train)"
   ]
  },
  {
   "cell_type": "code",
   "execution_count": 6,
   "id": "24150ce5",
   "metadata": {},
   "outputs": [
    {
     "name": "stdout",
     "output_type": "stream",
     "text": [
      "The best hyperparameters from GridSearchCV are:\n",
      "{'alpha': 0.1}\n",
      "\n",
      "The mean accuracy of a MultinomialNB model with these hyperparameters is:\n",
      "0.8502514123460893\n"
     ]
    }
   ],
   "source": [
    "print(\"The best hyperparameters from GridSearchCV are:\")\n",
    "print(grid_search.best_params_)\n",
    "print(\"\")\n",
    "print(\"The mean accuracy of a MultinomialNB model with these hyperparameters is:\")\n",
    "print(grid_search.best_score_)"
   ]
  },
  {
   "cell_type": "markdown",
   "id": "0aad1c83",
   "metadata": {},
   "source": [
    "We save the model with the best hyperparameters"
   ]
  },
  {
   "cell_type": "code",
   "execution_count": 7,
   "id": "a464e811",
   "metadata": {},
   "outputs": [],
   "source": [
    "best_nb= grid_search.best_estimator_"
   ]
  },
  {
   "cell_type": "markdown",
   "id": "e52877fa",
   "metadata": {},
   "source": [
    "## Model fit\n",
    "\n",
    "We fit the model to the training data."
   ]
  },
  {
   "cell_type": "code",
   "execution_count": 8,
   "id": "cfc148ea",
   "metadata": {},
   "outputs": [
    {
     "data": {
      "text/plain": [
       "MultinomialNB(alpha=0.1)"
      ]
     },
     "execution_count": 8,
     "metadata": {},
     "output_type": "execute_result"
    }
   ],
   "source": [
    "best_nb.fit(features_train, y_train)"
   ]
  },
  {
   "cell_type": "markdown",
   "id": "dae684ed",
   "metadata": {},
   "source": [
    "## Model performance"
   ]
  },
  {
   "cell_type": "markdown",
   "id": "3bafa5f1",
   "metadata": {},
   "source": [
    "### - Training accuracy"
   ]
  },
  {
   "cell_type": "code",
   "execution_count": 9,
   "id": "2aee42a1",
   "metadata": {},
   "outputs": [
    {
     "name": "stdout",
     "output_type": "stream",
     "text": [
      "The training accuracy  is: \n",
      "0.9016021042563367\n"
     ]
    }
   ],
   "source": [
    "print(\"The training accuracy  is: \")\n",
    "accuracy_train=accuracy_score(y_train,best_nb.predict(features_train))\n",
    "print(accuracy_train)"
   ]
  },
  {
   "cell_type": "markdown",
   "id": "750a1657",
   "metadata": {},
   "source": [
    "### - Test accuracy"
   ]
  },
  {
   "cell_type": "code",
   "execution_count": 10,
   "id": "7deec3e8",
   "metadata": {},
   "outputs": [
    {
     "name": "stdout",
     "output_type": "stream",
     "text": [
      "The test accuracy is: \n",
      "0.8527196652719665\n"
     ]
    }
   ],
   "source": [
    "print(\"The test accuracy is: \")\n",
    "nb_pred = best_nb.predict(features_test)\n",
    "accuracy_test=accuracy_score(y_test, nb_pred)\n",
    "print(accuracy_test)"
   ]
  },
  {
   "cell_type": "markdown",
   "id": "4319c6d3",
   "metadata": {},
   "source": [
    "### - Classification report and confusion matrix"
   ]
  },
  {
   "cell_type": "code",
   "execution_count": 11,
   "id": "e23828a9",
   "metadata": {},
   "outputs": [
    {
     "name": "stdout",
     "output_type": "stream",
     "text": [
      "Classification report\n",
      "              precision    recall  f1-score   support\n",
      "\n",
      "           0       0.87      0.91      0.89       904\n",
      "           1       0.98      0.93      0.95      1448\n",
      "           2       0.85      0.85      0.85      1276\n",
      "           3       0.83      0.82      0.83      1073\n",
      "           4       0.81      0.82      0.82      1392\n",
      "           5       0.75      0.79      0.77      1077\n",
      "\n",
      "    accuracy                           0.85      7170\n",
      "   macro avg       0.85      0.85      0.85      7170\n",
      "weighted avg       0.85      0.85      0.85      7170\n",
      "\n"
     ]
    },
    {
     "data": {
      "image/png": "[encoded data removed]",
      "text/plain": [
       "<Figure size 921.6x432 with 2 Axes>"
      ]
     },
     "metadata": {
      "needs_background": "light"
     },
     "output_type": "display_data"
    }
   ],
   "source": [
    "#Classification report\n",
    "print(\"Classification report\")\n",
    "print(classification_report(y_test,nb_pred))\n",
    "\n",
    "\n",
    "#Confusion matrix\n",
    "aux_data = data[['Label', 'Label_code']].drop_duplicates().sort_values('Label_code')\n",
    "conf_matrix = confusion_matrix(y_test, nb_pred,normalize='true')\n",
    "plt.figure(figsize=(12.8,6))\n",
    "sns.heatmap(conf_matrix, annot=True,\n",
    "            xticklabels=aux_data['Label'], \n",
    "            yticklabels=aux_data['Label'],\n",
    "            cmap=\"Purples\")\n",
    "plt.ylabel('Predicted')\n",
    "plt.xlabel('Actual')\n",
    "plt.title('Confusion matrix')\n",
    "plt.show()"
   ]
  },
  {
   "cell_type": "markdown",
   "id": "4af517ba",
   "metadata": {},
   "source": [
    "We save our model"
   ]
  },
  {
   "cell_type": "code",
   "execution_count": 12,
   "id": "cd9b779c",
   "metadata": {},
   "outputs": [],
   "source": [
    "with open('best_nb.pickle', 'wb') as output:\n",
    "    pickle.dump(best_nb, output)"
   ]
  },
  {
   "cell_type": "markdown",
   "id": "9a5d1d67",
   "metadata": {},
   "source": [
    "We also save the scores for the different metrics we considered. In the case of precision, recall and F1-score we use macro average (averaging the unweighted mean per label)."
   ]
  },
  {
   "cell_type": "code",
   "execution_count": 13,
   "id": "0f7965c1",
   "metadata": {},
   "outputs": [],
   "source": [
    "classification_report_macro=classification_report(y_test,nb_pred,output_dict=True)['macro avg']\n",
    "scores_nb = {\n",
    "     'Model': 'Multinomial Naive Bayes',\n",
    "     'Training Set Accuracy': accuracy_train,\n",
    "     'Test Set Accuracy': accuracy_test,\n",
    "     'Precision':classification_report_macro['precision'],\n",
    "    'Recall':classification_report_macro['recall'],\n",
    "    'F1-score':classification_report_macro['f1-score']\n",
    "}"
   ]
  },
  {
   "cell_type": "code",
   "execution_count": 14,
   "id": "55f5b31b",
   "metadata": {},
   "outputs": [
    {
     "data": {
      "text/plain": [
       "{'Model': 'Multinomial Naive Bayes',\n",
       " 'Training Set Accuracy': 0.9016021042563367,\n",
       " 'Test Set Accuracy': 0.8527196652719665,\n",
       " 'Precision': 0.8501762016784836,\n",
       " 'Recall': 0.8516218828767886,\n",
       " 'F1-score': 0.8506365314234903}"
      ]
     },
     "execution_count": 14,
     "metadata": {},
     "output_type": "execute_result"
    }
   ],
   "source": [
    "scores_nb"
   ]
  },
  {
   "cell_type": "code",
   "execution_count": 15,
   "id": "865bf73e",
   "metadata": {},
   "outputs": [],
   "source": [
    "with open('scores_nb.pickle', 'wb') as handle:\n",
    "    pickle.dump(scores_nb, handle, protocol=pickle.HIGHEST_PROTOCOL)"
   ]
  }
 ],
 "metadata": {
  "kernelspec": {
   "display_name": "Python 3 (ipykernel)",
   "language": "python",
   "name": "python3"
  },
  "language_info": {
   "codemirror_mode": {
    "name": "ipython",
    "version": 3
   },
   "file_extension": ".py",
   "mimetype": "text/x-python",
   "name": "python",
   "nbconvert_exporter": "python",
   "pygments_lexer": "ipython3",
   "version": "3.9.7"
  }
 },
 "nbformat": 4,
 "nbformat_minor": 5
}
