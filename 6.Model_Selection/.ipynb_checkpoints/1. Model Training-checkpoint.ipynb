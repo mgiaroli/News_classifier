{
 "cells": [
  {
   "cell_type": "markdown",
   "id": "863807ed",
   "metadata": {},
   "source": [
    "# Model training\n",
    "\n",
    "In the next notebooks, we will try different machine learning classification models, and then we will evaluate them in our test data, and select the one with the best performance. The models that we will try are:\n",
    "\n",
    "- K Nearest Neighbors\n",
    "- Linear Support Vector Classification\n",
    "- Logistic Regression\n",
    "- Multinomial Naive Bayes\n",
    "\n",
    "To train these model we will use [**scikit-learn**](https://scikit-learn.org/).\n",
    "\n",
    "For each model, we will follow the next steps:\n",
    "1. Hyperparameter tuning: We decide which hyperparameters to tune, and we use a Grid Search Cross Validation to choose the ones with best accuracy.\n",
    "2. Model fit: We train the model with the best hyperparameters.\n",
    "3. Model performance: We compute the training and test accuracy, the classification report, and the confusion matrix. We will save these data to compare the models.\n",
    "\n",
    "Then, we will compare the model performances and we will choose the one that we consider is the most suitable. Also, for the development of the web application, we will need that our model can predict the class probabilities. The Linear Support Vector Classification model does not have available the function predict_proba so we will need to use [CalibratedClassifierCV](https://scikit-learn.org/stable/modules/generated/sklearn.calibration.CalibratedClassifierCV.html) in this case.\n"
   ]
  }
 ],
 "metadata": {
  "kernelspec": {
   "display_name": "Python 3 (ipykernel)",
   "language": "python",
   "name": "python3"
  },
  "language_info": {
   "codemirror_mode": {
    "name": "ipython",
    "version": 3
   },
   "file_extension": ".py",
   "mimetype": "text/x-python",
   "name": "python",
   "nbconvert_exporter": "python",
   "pygments_lexer": "ipython3",
   "version": "3.9.7"
  }
 },
 "nbformat": 4,
 "nbformat_minor": 5
}
