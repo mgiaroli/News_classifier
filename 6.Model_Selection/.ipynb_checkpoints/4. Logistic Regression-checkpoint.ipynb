{
 "cells": [
  {
   "cell_type": "markdown",
   "id": "f7f3f984",
   "metadata": {},
   "source": [
    "# Logistic Regression\n",
    "\n",
    "In this notebook, we will try the model [Logistic Regression](https://scikit-learn.org/stable/modules/generated/sklearn.linear_model.LogisticRegression.html)."
   ]
  },
  {
   "cell_type": "code",
   "execution_count": 1,
   "id": "0e97093a",
   "metadata": {},
   "outputs": [],
   "source": [
    "import pickle\n",
    "from sklearn.linear_model import LogisticRegression\n",
    "from pprint import pprint\n",
    "from sklearn.model_selection import GridSearchCV\n",
    "from sklearn.metrics import classification_report, confusion_matrix, accuracy_score\n",
    "import matplotlib.pyplot as plt\n",
    "import seaborn as sns"
   ]
  },
  {
   "cell_type": "markdown",
   "id": "ef739380",
   "metadata": {},
   "source": [
    "We load our data"
   ]
  },
  {
   "cell_type": "code",
   "execution_count": 7,
   "id": "34da0012",
   "metadata": {},
   "outputs": [],
   "source": [
    "path='/home/maggie/News_classifier/4. Features Creation/' \n",
    "\n",
    "# data\n",
    "with open(path + 'data_modified.pickle', 'rb') as file:\n",
    "    data=pickle.load(file)\n",
    "\n",
    "# features_train\n",
    "with open(path + 'features_train.pickle', 'rb') as file:\n",
    "    features_train=pickle.load(file)\n",
    "\n",
    "# features_test\n",
    "with open(path + 'features_test.pickle', 'rb') as file:\n",
    "    features_test=pickle.load(file)\n",
    "    \n",
    "# y_train\n",
    "with open(path + 'y_train.pickle', 'rb') as file:\n",
    "    y_train=pickle.load(file)\n",
    "    \n",
    "# y_test\n",
    "with open(path + 'y_test.pickle', 'rb') as file:\n",
    "    y_test=pickle.load(file)"
   ]
  },
  {
   "cell_type": "code",
   "execution_count": 8,
   "id": "377a64d1",
   "metadata": {},
   "outputs": [
    {
     "name": "stdout",
     "output_type": "stream",
     "text": [
      "(16728, 8257)\n",
      "(7170, 8257)\n"
     ]
    }
   ],
   "source": [
    "print(features_train.shape)\n",
    "print(features_test.shape)"
   ]
  },
  {
   "cell_type": "markdown",
   "id": "5d6fe8b4",
   "metadata": {},
   "source": [
    "## Hyperparameter tuning"
   ]
  },
  {
   "cell_type": "code",
   "execution_count": 9,
   "id": "ddd93448",
   "metadata": {},
   "outputs": [
    {
     "name": "stdout",
     "output_type": "stream",
     "text": [
      "Parameters:\n",
      "\n",
      "{'C': 1.0,\n",
      " 'class_weight': None,\n",
      " 'dual': False,\n",
      " 'fit_intercept': True,\n",
      " 'intercept_scaling': 1,\n",
      " 'l1_ratio': None,\n",
      " 'max_iter': 100,\n",
      " 'multi_class': 'auto',\n",
      " 'n_jobs': None,\n",
      " 'penalty': 'l2',\n",
      " 'random_state': None,\n",
      " 'solver': 'lbfgs',\n",
      " 'tol': 0.0001,\n",
      " 'verbose': 0,\n",
      " 'warm_start': False}\n"
     ]
    }
   ],
   "source": [
    "lr0 =LogisticRegression()\n",
    "\n",
    "print('Parameters:\\n')\n",
    "pprint(lr0.get_params())"
   ]
  },
  {
   "cell_type": "markdown",
   "id": "5dcdca11",
   "metadata": {},
   "source": [
    "We will tune the following parameters:\n",
    "\n",
    "- **C**=Inverse of regularization strength. Smaller values specify stronger regularization.  \n",
    "- **solver**= Algorithm to use in the optimization problem.\n"
   ]
  },
  {
   "cell_type": "markdown",
   "id": "b3881fea",
   "metadata": {},
   "source": [
    "### Grid Search Cross Validation"
   ]
  },
  {
   "cell_type": "code",
   "execution_count": 10,
   "id": "ba150241",
   "metadata": {
    "scrolled": true
   },
   "outputs": [
    {
     "name": "stdout",
     "output_type": "stream",
     "text": [
      "Fitting 5 folds for each of 20 candidates, totalling 100 fits\n",
      "[CV 1/5; 1/20] START C=0.01, max_iter=1000, solver=newton-cg....................\n",
      "[CV 1/5; 1/20] END C=0.01, max_iter=1000, solver=newton-cg;, score=0.541 total time=   0.4s\n",
      "[CV 2/5; 1/20] START C=0.01, max_iter=1000, solver=newton-cg....................\n",
      "[CV 2/5; 1/20] END C=0.01, max_iter=1000, solver=newton-cg;, score=0.545 total time=   0.4s\n",
      "[CV 3/5; 1/20] START C=0.01, max_iter=1000, solver=newton-cg....................\n",
      "[CV 3/5; 1/20] END C=0.01, max_iter=1000, solver=newton-cg;, score=0.543 total time=   0.4s\n",
      "[CV 4/5; 1/20] START C=0.01, max_iter=1000, solver=newton-cg....................\n",
      "[CV 4/5; 1/20] END C=0.01, max_iter=1000, solver=newton-cg;, score=0.546 total time=   0.4s\n",
      "[CV 5/5; 1/20] START C=0.01, max_iter=1000, solver=newton-cg....................\n",
      "[CV 5/5; 1/20] END C=0.01, max_iter=1000, solver=newton-cg;, score=0.546 total time=   0.4s\n",
      "[CV 1/5; 2/20] START C=0.01, max_iter=1000, solver=lbfgs........................\n",
      "[CV 1/5; 2/20] END C=0.01, max_iter=1000, solver=lbfgs;, score=0.541 total time=   0.3s\n",
      "[CV 2/5; 2/20] START C=0.01, max_iter=1000, solver=lbfgs........................\n",
      "[CV 2/5; 2/20] END C=0.01, max_iter=1000, solver=lbfgs;, score=0.545 total time=   0.3s\n",
      "[CV 3/5; 2/20] START C=0.01, max_iter=1000, solver=lbfgs........................\n",
      "[CV 3/5; 2/20] END C=0.01, max_iter=1000, solver=lbfgs;, score=0.543 total time=   0.3s\n",
      "[CV 4/5; 2/20] START C=0.01, max_iter=1000, solver=lbfgs........................\n",
      "[CV 4/5; 2/20] END C=0.01, max_iter=1000, solver=lbfgs;, score=0.546 total time=   0.4s\n",
      "[CV 5/5; 2/20] START C=0.01, max_iter=1000, solver=lbfgs........................\n",
      "[CV 5/5; 2/20] END C=0.01, max_iter=1000, solver=lbfgs;, score=0.546 total time=   0.4s\n",
      "[CV 1/5; 3/20] START C=0.01, max_iter=1000, solver=liblinear....................\n",
      "[CV 1/5; 3/20] END C=0.01, max_iter=1000, solver=liblinear;, score=0.533 total time=   0.2s\n",
      "[CV 2/5; 3/20] START C=0.01, max_iter=1000, solver=liblinear....................\n",
      "[CV 2/5; 3/20] END C=0.01, max_iter=1000, solver=liblinear;, score=0.530 total time=   0.2s\n",
      "[CV 3/5; 3/20] START C=0.01, max_iter=1000, solver=liblinear....................\n",
      "[CV 3/5; 3/20] END C=0.01, max_iter=1000, solver=liblinear;, score=0.530 total time=   0.2s\n",
      "[CV 4/5; 3/20] START C=0.01, max_iter=1000, solver=liblinear....................\n",
      "[CV 4/5; 3/20] END C=0.01, max_iter=1000, solver=liblinear;, score=0.531 total time=   0.2s\n",
      "[CV 5/5; 3/20] START C=0.01, max_iter=1000, solver=liblinear....................\n",
      "[CV 5/5; 3/20] END C=0.01, max_iter=1000, solver=liblinear;, score=0.529 total time=   0.2s\n",
      "[CV 1/5; 4/20] START C=0.01, max_iter=1000, solver=sag..........................\n",
      "[CV 1/5; 4/20] END C=0.01, max_iter=1000, solver=sag;, score=0.542 total time=   0.3s\n",
      "[CV 2/5; 4/20] START C=0.01, max_iter=1000, solver=sag..........................\n",
      "[CV 2/5; 4/20] END C=0.01, max_iter=1000, solver=sag;, score=0.545 total time=   0.3s\n",
      "[CV 3/5; 4/20] START C=0.01, max_iter=1000, solver=sag..........................\n",
      "[CV 3/5; 4/20] END C=0.01, max_iter=1000, solver=sag;, score=0.543 total time=   0.2s\n",
      "[CV 4/5; 4/20] START C=0.01, max_iter=1000, solver=sag..........................\n",
      "[CV 4/5; 4/20] END C=0.01, max_iter=1000, solver=sag;, score=0.546 total time=   0.2s\n",
      "[CV 5/5; 4/20] START C=0.01, max_iter=1000, solver=sag..........................\n",
      "[CV 5/5; 4/20] END C=0.01, max_iter=1000, solver=sag;, score=0.546 total time=   0.2s\n",
      "[CV 1/5; 5/20] START C=0.01, max_iter=1000, solver=saga.........................\n",
      "[CV 1/5; 5/20] END C=0.01, max_iter=1000, solver=saga;, score=0.541 total time=   0.5s\n",
      "[CV 2/5; 5/20] START C=0.01, max_iter=1000, solver=saga.........................\n",
      "[CV 2/5; 5/20] END C=0.01, max_iter=1000, solver=saga;, score=0.545 total time=   0.5s\n",
      "[CV 3/5; 5/20] START C=0.01, max_iter=1000, solver=saga.........................\n",
      "[CV 3/5; 5/20] END C=0.01, max_iter=1000, solver=saga;, score=0.543 total time=   0.4s\n",
      "[CV 4/5; 5/20] START C=0.01, max_iter=1000, solver=saga.........................\n",
      "[CV 4/5; 5/20] END C=0.01, max_iter=1000, solver=saga;, score=0.546 total time=   0.4s\n",
      "[CV 5/5; 5/20] START C=0.01, max_iter=1000, solver=saga.........................\n",
      "[CV 5/5; 5/20] END C=0.01, max_iter=1000, solver=saga;, score=0.546 total time=   0.6s\n",
      "[CV 1/5; 6/20] START C=0.1, max_iter=1000, solver=newton-cg.....................\n",
      "[CV 1/5; 6/20] END C=0.1, max_iter=1000, solver=newton-cg;, score=0.810 total time=   0.7s\n",
      "[CV 2/5; 6/20] START C=0.1, max_iter=1000, solver=newton-cg.....................\n",
      "[CV 2/5; 6/20] END C=0.1, max_iter=1000, solver=newton-cg;, score=0.808 total time=   0.7s\n",
      "[CV 3/5; 6/20] START C=0.1, max_iter=1000, solver=newton-cg.....................\n",
      "[CV 3/5; 6/20] END C=0.1, max_iter=1000, solver=newton-cg;, score=0.818 total time=   0.7s\n",
      "[CV 4/5; 6/20] START C=0.1, max_iter=1000, solver=newton-cg.....................\n",
      "[CV 4/5; 6/20] END C=0.1, max_iter=1000, solver=newton-cg;, score=0.809 total time=   0.6s\n",
      "[CV 5/5; 6/20] START C=0.1, max_iter=1000, solver=newton-cg.....................\n",
      "[CV 5/5; 6/20] END C=0.1, max_iter=1000, solver=newton-cg;, score=0.813 total time=   0.6s\n",
      "[CV 1/5; 7/20] START C=0.1, max_iter=1000, solver=lbfgs.........................\n",
      "[CV 1/5; 7/20] END C=0.1, max_iter=1000, solver=lbfgs;, score=0.810 total time=   0.8s\n",
      "[CV 2/5; 7/20] START C=0.1, max_iter=1000, solver=lbfgs.........................\n",
      "[CV 2/5; 7/20] END C=0.1, max_iter=1000, solver=lbfgs;, score=0.808 total time=   0.8s\n",
      "[CV 3/5; 7/20] START C=0.1, max_iter=1000, solver=lbfgs.........................\n",
      "[CV 3/5; 7/20] END C=0.1, max_iter=1000, solver=lbfgs;, score=0.817 total time=   0.8s\n",
      "[CV 4/5; 7/20] START C=0.1, max_iter=1000, solver=lbfgs.........................\n",
      "[CV 4/5; 7/20] END C=0.1, max_iter=1000, solver=lbfgs;, score=0.809 total time=   0.7s\n",
      "[CV 5/5; 7/20] START C=0.1, max_iter=1000, solver=lbfgs.........................\n",
      "[CV 5/5; 7/20] END C=0.1, max_iter=1000, solver=lbfgs;, score=0.813 total time=   0.8s\n",
      "[CV 1/5; 8/20] START C=0.1, max_iter=1000, solver=liblinear.....................\n",
      "[CV 1/5; 8/20] END C=0.1, max_iter=1000, solver=liblinear;, score=0.798 total time=   0.3s\n",
      "[CV 2/5; 8/20] START C=0.1, max_iter=1000, solver=liblinear.....................\n",
      "[CV 2/5; 8/20] END C=0.1, max_iter=1000, solver=liblinear;, score=0.794 total time=   0.3s\n",
      "[CV 3/5; 8/20] START C=0.1, max_iter=1000, solver=liblinear.....................\n",
      "[CV 3/5; 8/20] END C=0.1, max_iter=1000, solver=liblinear;, score=0.805 total time=   0.3s\n",
      "[CV 4/5; 8/20] START C=0.1, max_iter=1000, solver=liblinear.....................\n",
      "[CV 4/5; 8/20] END C=0.1, max_iter=1000, solver=liblinear;, score=0.796 total time=   0.3s\n",
      "[CV 5/5; 8/20] START C=0.1, max_iter=1000, solver=liblinear.....................\n",
      "[CV 5/5; 8/20] END C=0.1, max_iter=1000, solver=liblinear;, score=0.803 total time=   0.3s\n",
      "[CV 1/5; 9/20] START C=0.1, max_iter=1000, solver=sag...........................\n",
      "[CV 1/5; 9/20] END C=0.1, max_iter=1000, solver=sag;, score=0.810 total time=   0.3s\n",
      "[CV 2/5; 9/20] START C=0.1, max_iter=1000, solver=sag...........................\n",
      "[CV 2/5; 9/20] END C=0.1, max_iter=1000, solver=sag;, score=0.808 total time=   0.3s\n",
      "[CV 3/5; 9/20] START C=0.1, max_iter=1000, solver=sag...........................\n",
      "[CV 3/5; 9/20] END C=0.1, max_iter=1000, solver=sag;, score=0.818 total time=   0.3s\n",
      "[CV 4/5; 9/20] START C=0.1, max_iter=1000, solver=sag...........................\n",
      "[CV 4/5; 9/20] END C=0.1, max_iter=1000, solver=sag;, score=0.809 total time=   0.3s\n",
      "[CV 5/5; 9/20] START C=0.1, max_iter=1000, solver=sag...........................\n",
      "[CV 5/5; 9/20] END C=0.1, max_iter=1000, solver=sag;, score=0.813 total time=   0.3s\n",
      "[CV 1/5; 10/20] START C=0.1, max_iter=1000, solver=saga.........................\n",
      "[CV 1/5; 10/20] END C=0.1, max_iter=1000, solver=saga;, score=0.811 total time=   0.5s\n",
      "[CV 2/5; 10/20] START C=0.1, max_iter=1000, solver=saga.........................\n",
      "[CV 2/5; 10/20] END C=0.1, max_iter=1000, solver=saga;, score=0.808 total time=   0.5s\n",
      "[CV 3/5; 10/20] START C=0.1, max_iter=1000, solver=saga.........................\n",
      "[CV 3/5; 10/20] END C=0.1, max_iter=1000, solver=saga;, score=0.817 total time=   0.5s\n",
      "[CV 4/5; 10/20] START C=0.1, max_iter=1000, solver=saga.........................\n"
     ]
    },
    {
     "name": "stdout",
     "output_type": "stream",
     "text": [
      "[CV 4/5; 10/20] END C=0.1, max_iter=1000, solver=saga;, score=0.809 total time=   0.4s\n",
      "[CV 5/5; 10/20] START C=0.1, max_iter=1000, solver=saga.........................\n",
      "[CV 5/5; 10/20] END C=0.1, max_iter=1000, solver=saga;, score=0.813 total time=   0.6s\n",
      "[CV 1/5; 11/20] START C=1.0, max_iter=1000, solver=newton-cg....................\n",
      "[CV 1/5; 11/20] END C=1.0, max_iter=1000, solver=newton-cg;, score=0.859 total time=   1.1s\n",
      "[CV 2/5; 11/20] START C=1.0, max_iter=1000, solver=newton-cg....................\n",
      "[CV 2/5; 11/20] END C=1.0, max_iter=1000, solver=newton-cg;, score=0.854 total time=   1.0s\n",
      "[CV 3/5; 11/20] START C=1.0, max_iter=1000, solver=newton-cg....................\n",
      "[CV 3/5; 11/20] END C=1.0, max_iter=1000, solver=newton-cg;, score=0.863 total time=   1.1s\n",
      "[CV 4/5; 11/20] START C=1.0, max_iter=1000, solver=newton-cg....................\n",
      "[CV 4/5; 11/20] END C=1.0, max_iter=1000, solver=newton-cg;, score=0.852 total time=   1.1s\n",
      "[CV 5/5; 11/20] START C=1.0, max_iter=1000, solver=newton-cg....................\n",
      "[CV 5/5; 11/20] END C=1.0, max_iter=1000, solver=newton-cg;, score=0.853 total time=   1.1s\n",
      "[CV 1/5; 12/20] START C=1.0, max_iter=1000, solver=lbfgs........................\n",
      "[CV 1/5; 12/20] END C=1.0, max_iter=1000, solver=lbfgs;, score=0.859 total time=   1.8s\n",
      "[CV 2/5; 12/20] START C=1.0, max_iter=1000, solver=lbfgs........................\n",
      "[CV 2/5; 12/20] END C=1.0, max_iter=1000, solver=lbfgs;, score=0.854 total time=   2.3s\n",
      "[CV 3/5; 12/20] START C=1.0, max_iter=1000, solver=lbfgs........................\n",
      "[CV 3/5; 12/20] END C=1.0, max_iter=1000, solver=lbfgs;, score=0.863 total time=   2.4s\n",
      "[CV 4/5; 12/20] START C=1.0, max_iter=1000, solver=lbfgs........................\n",
      "[CV 4/5; 12/20] END C=1.0, max_iter=1000, solver=lbfgs;, score=0.853 total time=   1.7s\n",
      "[CV 5/5; 12/20] START C=1.0, max_iter=1000, solver=lbfgs........................\n",
      "[CV 5/5; 12/20] END C=1.0, max_iter=1000, solver=lbfgs;, score=0.853 total time=   2.7s\n",
      "[CV 1/5; 13/20] START C=1.0, max_iter=1000, solver=liblinear....................\n",
      "[CV 1/5; 13/20] END C=1.0, max_iter=1000, solver=liblinear;, score=0.857 total time=   0.4s\n",
      "[CV 2/5; 13/20] START C=1.0, max_iter=1000, solver=liblinear....................\n",
      "[CV 2/5; 13/20] END C=1.0, max_iter=1000, solver=liblinear;, score=0.849 total time=   0.3s\n",
      "[CV 3/5; 13/20] START C=1.0, max_iter=1000, solver=liblinear....................\n",
      "[CV 3/5; 13/20] END C=1.0, max_iter=1000, solver=liblinear;, score=0.859 total time=   0.3s\n",
      "[CV 4/5; 13/20] START C=1.0, max_iter=1000, solver=liblinear....................\n",
      "[CV 4/5; 13/20] END C=1.0, max_iter=1000, solver=liblinear;, score=0.848 total time=   0.4s\n",
      "[CV 5/5; 13/20] START C=1.0, max_iter=1000, solver=liblinear....................\n",
      "[CV 5/5; 13/20] END C=1.0, max_iter=1000, solver=liblinear;, score=0.852 total time=   0.4s\n",
      "[CV 1/5; 14/20] START C=1.0, max_iter=1000, solver=sag..........................\n",
      "[CV 1/5; 14/20] END C=1.0, max_iter=1000, solver=sag;, score=0.859 total time=   0.3s\n",
      "[CV 2/5; 14/20] START C=1.0, max_iter=1000, solver=sag..........................\n",
      "[CV 2/5; 14/20] END C=1.0, max_iter=1000, solver=sag;, score=0.854 total time=   0.4s\n",
      "[CV 3/5; 14/20] START C=1.0, max_iter=1000, solver=sag..........................\n",
      "[CV 3/5; 14/20] END C=1.0, max_iter=1000, solver=sag;, score=0.863 total time=   0.4s\n",
      "[CV 4/5; 14/20] START C=1.0, max_iter=1000, solver=sag..........................\n",
      "[CV 4/5; 14/20] END C=1.0, max_iter=1000, solver=sag;, score=0.852 total time=   0.4s\n",
      "[CV 5/5; 14/20] START C=1.0, max_iter=1000, solver=sag..........................\n",
      "[CV 5/5; 14/20] END C=1.0, max_iter=1000, solver=sag;, score=0.853 total time=   0.4s\n",
      "[CV 1/5; 15/20] START C=1.0, max_iter=1000, solver=saga.........................\n",
      "[CV 1/5; 15/20] END C=1.0, max_iter=1000, solver=saga;, score=0.859 total time=   0.5s\n",
      "[CV 2/5; 15/20] START C=1.0, max_iter=1000, solver=saga.........................\n",
      "[CV 2/5; 15/20] END C=1.0, max_iter=1000, solver=saga;, score=0.854 total time=   0.5s\n",
      "[CV 3/5; 15/20] START C=1.0, max_iter=1000, solver=saga.........................\n",
      "[CV 3/5; 15/20] END C=1.0, max_iter=1000, solver=saga;, score=0.863 total time=   0.5s\n",
      "[CV 4/5; 15/20] START C=1.0, max_iter=1000, solver=saga.........................\n",
      "[CV 4/5; 15/20] END C=1.0, max_iter=1000, solver=saga;, score=0.853 total time=   0.5s\n",
      "[CV 5/5; 15/20] START C=1.0, max_iter=1000, solver=saga.........................\n",
      "[CV 5/5; 15/20] END C=1.0, max_iter=1000, solver=saga;, score=0.853 total time=   0.5s\n",
      "[CV 1/5; 16/20] START C=10, max_iter=1000, solver=newton-cg.....................\n",
      "[CV 1/5; 16/20] END C=10, max_iter=1000, solver=newton-cg;, score=0.846 total time=   1.4s\n",
      "[CV 2/5; 16/20] START C=10, max_iter=1000, solver=newton-cg.....................\n",
      "[CV 2/5; 16/20] END C=10, max_iter=1000, solver=newton-cg;, score=0.843 total time=   1.3s\n",
      "[CV 3/5; 16/20] START C=10, max_iter=1000, solver=newton-cg.....................\n",
      "[CV 3/5; 16/20] END C=10, max_iter=1000, solver=newton-cg;, score=0.857 total time=   1.3s\n",
      "[CV 4/5; 16/20] START C=10, max_iter=1000, solver=newton-cg.....................\n",
      "[CV 4/5; 16/20] END C=10, max_iter=1000, solver=newton-cg;, score=0.847 total time=   1.4s\n",
      "[CV 5/5; 16/20] START C=10, max_iter=1000, solver=newton-cg.....................\n",
      "[CV 5/5; 16/20] END C=10, max_iter=1000, solver=newton-cg;, score=0.846 total time=   1.3s\n",
      "[CV 1/5; 17/20] START C=10, max_iter=1000, solver=lbfgs.........................\n",
      "[CV 1/5; 17/20] END C=10, max_iter=1000, solver=lbfgs;, score=0.846 total time=   3.4s\n",
      "[CV 2/5; 17/20] START C=10, max_iter=1000, solver=lbfgs.........................\n",
      "[CV 2/5; 17/20] END C=10, max_iter=1000, solver=lbfgs;, score=0.843 total time=   3.6s\n",
      "[CV 3/5; 17/20] START C=10, max_iter=1000, solver=lbfgs.........................\n",
      "[CV 3/5; 17/20] END C=10, max_iter=1000, solver=lbfgs;, score=0.857 total time=   3.2s\n",
      "[CV 4/5; 17/20] START C=10, max_iter=1000, solver=lbfgs.........................\n",
      "[CV 4/5; 17/20] END C=10, max_iter=1000, solver=lbfgs;, score=0.847 total time=   3.2s\n",
      "[CV 5/5; 17/20] START C=10, max_iter=1000, solver=lbfgs.........................\n",
      "[CV 5/5; 17/20] END C=10, max_iter=1000, solver=lbfgs;, score=0.846 total time=   3.7s\n",
      "[CV 1/5; 18/20] START C=10, max_iter=1000, solver=liblinear.....................\n",
      "[CV 1/5; 18/20] END C=10, max_iter=1000, solver=liblinear;, score=0.853 total time=   0.5s\n",
      "[CV 2/5; 18/20] START C=10, max_iter=1000, solver=liblinear.....................\n",
      "[CV 2/5; 18/20] END C=10, max_iter=1000, solver=liblinear;, score=0.851 total time=   0.6s\n",
      "[CV 3/5; 18/20] START C=10, max_iter=1000, solver=liblinear.....................\n",
      "[CV 3/5; 18/20] END C=10, max_iter=1000, solver=liblinear;, score=0.861 total time=   0.6s\n",
      "[CV 4/5; 18/20] START C=10, max_iter=1000, solver=liblinear.....................\n",
      "[CV 4/5; 18/20] END C=10, max_iter=1000, solver=liblinear;, score=0.853 total time=   0.6s\n",
      "[CV 5/5; 18/20] START C=10, max_iter=1000, solver=liblinear.....................\n",
      "[CV 5/5; 18/20] END C=10, max_iter=1000, solver=liblinear;, score=0.851 total time=   0.6s\n",
      "[CV 1/5; 19/20] START C=10, max_iter=1000, solver=sag...........................\n",
      "[CV 1/5; 19/20] END C=10, max_iter=1000, solver=sag;, score=0.846 total time=   1.0s\n",
      "[CV 2/5; 19/20] START C=10, max_iter=1000, solver=sag...........................\n",
      "[CV 2/5; 19/20] END C=10, max_iter=1000, solver=sag;, score=0.843 total time=   0.9s\n",
      "[CV 3/5; 19/20] START C=10, max_iter=1000, solver=sag...........................\n",
      "[CV 3/5; 19/20] END C=10, max_iter=1000, solver=sag;, score=0.857 total time=   1.0s\n",
      "[CV 4/5; 19/20] START C=10, max_iter=1000, solver=sag...........................\n",
      "[CV 4/5; 19/20] END C=10, max_iter=1000, solver=sag;, score=0.847 total time=   1.2s\n",
      "[CV 5/5; 19/20] START C=10, max_iter=1000, solver=sag...........................\n",
      "[CV 5/5; 19/20] END C=10, max_iter=1000, solver=sag;, score=0.846 total time=   0.9s\n",
      "[CV 1/5; 20/20] START C=10, max_iter=1000, solver=saga..........................\n",
      "[CV 1/5; 20/20] END C=10, max_iter=1000, solver=saga;, score=0.846 total time=   1.5s\n",
      "[CV 2/5; 20/20] START C=10, max_iter=1000, solver=saga..........................\n",
      "[CV 2/5; 20/20] END C=10, max_iter=1000, solver=saga;, score=0.843 total time=   1.6s\n",
      "[CV 3/5; 20/20] START C=10, max_iter=1000, solver=saga..........................\n"
     ]
    },
    {
     "name": "stdout",
     "output_type": "stream",
     "text": [
      "[CV 3/5; 20/20] END C=10, max_iter=1000, solver=saga;, score=0.857 total time=   1.4s\n",
      "[CV 4/5; 20/20] START C=10, max_iter=1000, solver=saga..........................\n",
      "[CV 4/5; 20/20] END C=10, max_iter=1000, solver=saga;, score=0.847 total time=   1.4s\n",
      "[CV 5/5; 20/20] START C=10, max_iter=1000, solver=saga..........................\n",
      "[CV 5/5; 20/20] END C=10, max_iter=1000, solver=saga;, score=0.845 total time=   1.5s\n"
     ]
    },
    {
     "data": {
      "text/plain": [
       "GridSearchCV(estimator=LogisticRegression(),\n",
       "             param_grid={'C': [0.01, 0.1, 1.0, 10], 'max_iter': [1000],\n",
       "                         'solver': ['newton-cg', 'lbfgs', 'liblinear', 'sag',\n",
       "                                    'saga']},\n",
       "             scoring='accuracy', verbose=12)"
      ]
     },
     "execution_count": 10,
     "metadata": {},
     "output_type": "execute_result"
    }
   ],
   "source": [
    "# Create the parameter grid \n",
    "#C \n",
    "C=[0.01,0.1,1.0,10]\n",
    "#solver\n",
    "solver=['newton-cg', 'lbfgs', 'liblinear', 'sag', 'saga']\n",
    "max_iter=[1000]\n",
    "\n",
    "param_grid = {\n",
    "'C': C,\n",
    "'solver':solver,\n",
    "'max_iter':max_iter}\n",
    "\n",
    "# Base model\n",
    "lr = LogisticRegression()\n",
    "\n",
    "# Grid search model\n",
    "grid_search = GridSearchCV(estimator=lr, \n",
    "                            param_grid=param_grid,\n",
    "                            scoring='accuracy',\n",
    "                            verbose=12)\n",
    "\n",
    "# Fit the grid search to the data\n",
    "grid_search.fit(features_train, y_train)"
   ]
  },
  {
   "cell_type": "code",
   "execution_count": 11,
   "id": "aa68f7e5",
   "metadata": {},
   "outputs": [
    {
     "name": "stdout",
     "output_type": "stream",
     "text": [
      "The best hyperparameters from GridSearchCV are:\n",
      "{'C': 1.0, 'max_iter': 1000, 'solver': 'lbfgs'}\n",
      "\n",
      "The mean accuracy of a LogisticRegression model with these hyperparameters is:\n",
      "0.8562884179132748\n"
     ]
    }
   ],
   "source": [
    "print(\"The best hyperparameters from GridSearchCV are:\")\n",
    "print(grid_search.best_params_)\n",
    "print(\"\")\n",
    "print(\"The mean accuracy of a LogisticRegression model with these hyperparameters is:\")\n",
    "print(grid_search.best_score_)"
   ]
  },
  {
   "cell_type": "markdown",
   "id": "b64488d2",
   "metadata": {},
   "source": [
    "We save the model with the best hyperparameters"
   ]
  },
  {
   "cell_type": "code",
   "execution_count": 12,
   "id": "6028b86b",
   "metadata": {},
   "outputs": [],
   "source": [
    "best_lr= grid_search.best_estimator_"
   ]
  },
  {
   "cell_type": "markdown",
   "id": "02099bc3",
   "metadata": {},
   "source": [
    "## Model fit\n",
    "\n",
    "We fit the model to the training data."
   ]
  },
  {
   "cell_type": "code",
   "execution_count": 13,
   "id": "9660a531",
   "metadata": {},
   "outputs": [
    {
     "data": {
      "text/plain": [
       "LogisticRegression(max_iter=1000)"
      ]
     },
     "execution_count": 13,
     "metadata": {},
     "output_type": "execute_result"
    }
   ],
   "source": [
    "best_lr.fit(features_train, y_train)"
   ]
  },
  {
   "cell_type": "markdown",
   "id": "55fb5c4c",
   "metadata": {},
   "source": [
    "## Model performance"
   ]
  },
  {
   "cell_type": "markdown",
   "id": "36ffe5d1",
   "metadata": {},
   "source": [
    "### - Training accuracy"
   ]
  },
  {
   "cell_type": "code",
   "execution_count": 14,
   "id": "3b2e9f15",
   "metadata": {},
   "outputs": [
    {
     "name": "stdout",
     "output_type": "stream",
     "text": [
      "The training accuracy  is: \n",
      "0.9259325681492109\n"
     ]
    }
   ],
   "source": [
    "print(\"The training accuracy  is: \")\n",
    "accuracy_train=accuracy_score(y_train,best_lr.predict(features_train))\n",
    "print(accuracy_train)"
   ]
  },
  {
   "cell_type": "markdown",
   "id": "caa3a4be",
   "metadata": {},
   "source": [
    "### - Test accuracy"
   ]
  },
  {
   "cell_type": "code",
   "execution_count": 15,
   "id": "bb2c36f5",
   "metadata": {},
   "outputs": [
    {
     "name": "stdout",
     "output_type": "stream",
     "text": [
      "The test accuracy is: \n",
      "0.8574616457461646\n"
     ]
    }
   ],
   "source": [
    "print(\"The test accuracy is: \")\n",
    "lr_pred=best_lr.predict(features_test)\n",
    "accuracy_test=accuracy_score(y_test, lr_pred)\n",
    "print(accuracy_test)"
   ]
  },
  {
   "cell_type": "markdown",
   "id": "d7d146f5",
   "metadata": {},
   "source": [
    "### - Classification report and confusion matrix"
   ]
  },
  {
   "cell_type": "code",
   "execution_count": 16,
   "id": "02fedddc",
   "metadata": {},
   "outputs": [
    {
     "name": "stdout",
     "output_type": "stream",
     "text": [
      "Classification report\n",
      "              precision    recall  f1-score   support\n",
      "\n",
      "           0       0.91      0.89      0.90       904\n",
      "           1       0.97      0.94      0.95      1448\n",
      "           2       0.84      0.85      0.85      1276\n",
      "           3       0.84      0.83      0.83      1073\n",
      "           4       0.83      0.82      0.82      1392\n",
      "           5       0.75      0.80      0.78      1077\n",
      "\n",
      "    accuracy                           0.86      7170\n",
      "   macro avg       0.86      0.86      0.86      7170\n",
      "weighted avg       0.86      0.86      0.86      7170\n",
      "\n"
     ]
    },
    {
     "data": {
      "image/png": "[encoded data removed]",
      "text/plain": [
       "<Figure size 921.6x432 with 2 Axes>"
      ]
     },
     "metadata": {
      "needs_background": "light"
     },
     "output_type": "display_data"
    }
   ],
   "source": [
    "#Classification report\n",
    "print(\"Classification report\")\n",
    "print(classification_report(y_test,lr_pred))\n",
    "\n",
    "#Confusion matrix\n",
    "aux_data = data[['Label', 'Label_code']].drop_duplicates().sort_values('Label_code')\n",
    "conf_matrix = confusion_matrix(y_test, lr_pred,normalize='true')\n",
    "plt.figure(figsize=(12.8,6))\n",
    "sns.heatmap(conf_matrix, annot=True,\n",
    "            xticklabels=aux_data['Label'], \n",
    "            yticklabels=aux_data['Label'],\n",
    "            cmap=\"Blues\")\n",
    "plt.ylabel('Predicted')\n",
    "plt.xlabel('Actual')\n",
    "plt.title('Confusion matrix')\n",
    "plt.show()"
   ]
  },
  {
   "cell_type": "markdown",
   "id": "ea81c3d9",
   "metadata": {},
   "source": [
    "We save our model."
   ]
  },
  {
   "cell_type": "code",
   "execution_count": 17,
   "id": "ce89b67b",
   "metadata": {},
   "outputs": [],
   "source": [
    "with open('best_lr.pickle', 'wb') as output:\n",
    "    pickle.dump(best_lr, output)"
   ]
  },
  {
   "cell_type": "markdown",
   "id": "db3acebb",
   "metadata": {},
   "source": [
    "We also save the scores for the different metrics we considered. In the case of precision, recall and F1-score we use macro average (averaging the unweighted mean per label)."
   ]
  },
  {
   "cell_type": "code",
   "execution_count": 18,
   "id": "9361f2e8",
   "metadata": {},
   "outputs": [],
   "source": [
    "classification_report_macro=classification_report(y_test,lr_pred,output_dict=True)['macro avg']\n",
    "scores_lr = {\n",
    "     'Model': 'Logistic Regression',\n",
    "     'Training Set Accuracy': accuracy_train,\n",
    "     'Test Set Accuracy': accuracy_test,\n",
    "     'Precision':classification_report_macro['precision'],\n",
    "    'Recall':classification_report_macro['recall'],\n",
    "    'F1-score':classification_report_macro['f1-score']\n",
    "}"
   ]
  },
  {
   "cell_type": "code",
   "execution_count": 19,
   "id": "52f47e0d",
   "metadata": {},
   "outputs": [
    {
     "data": {
      "text/plain": [
       "{'Model': 'Logistic Regression',\n",
       " 'Training Set Accuracy': 0.9259325681492109,\n",
       " 'Test Set Accuracy': 0.8574616457461646,\n",
       " 'Precision': 0.8560697221750707,\n",
       " 'Recall': 0.8556997528905553,\n",
       " 'F1-score': 0.8557222365731874}"
      ]
     },
     "execution_count": 19,
     "metadata": {},
     "output_type": "execute_result"
    }
   ],
   "source": [
    "scores_lr"
   ]
  },
  {
   "cell_type": "code",
   "execution_count": 20,
   "id": "fec1c26a",
   "metadata": {},
   "outputs": [],
   "source": [
    "with open('scores_lr.pickle', 'wb') as handle:\n",
    "    pickle.dump(scores_lr, handle, protocol=pickle.HIGHEST_PROTOCOL)"
   ]
  }
 ],
 "metadata": {
  "kernelspec": {
   "display_name": "Python 3 (ipykernel)",
   "language": "python",
   "name": "python3"
  },
  "language_info": {
   "codemirror_mode": {
    "name": "ipython",
    "version": 3
   },
   "file_extension": ".py",
   "mimetype": "text/x-python",
   "name": "python",
   "nbconvert_exporter": "python",
   "pygments_lexer": "ipython3",
   "version": "3.9.7"
  }
 },
 "nbformat": 4,
 "nbformat_minor": 5
}
