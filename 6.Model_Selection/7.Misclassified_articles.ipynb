{
 "cells": [
  {
   "cell_type": "markdown",
   "id": "9542d912",
   "metadata": {},
   "source": [
    "# Misclassified articles\n",
    "\n",
    "In this notebook, we explore the articles that were misclassified by our model. "
   ]
  },
  {
   "cell_type": "code",
   "execution_count": 1,
   "id": "1e74c7b0",
   "metadata": {},
   "outputs": [],
   "source": [
    "import pickle\n",
    "import pandas as pd\n",
    "import numpy as np\n",
    "import random"
   ]
  },
  {
   "cell_type": "code",
   "execution_count": 2,
   "id": "98a7bbc3",
   "metadata": {},
   "outputs": [],
   "source": [
    "path='/home/maggie/News_classifier/4. Features Creation/' \n",
    "\n",
    "# X_test    \n",
    "with open(path + 'X_test.pickle', 'rb') as file:\n",
    "    X_test=pickle.load(file)\n",
    "\n",
    "# features_test\n",
    "with open(path + 'features_test.pickle', 'rb') as file:\n",
    "    features_test=pickle.load(file)    \n",
    "    \n",
    "# y_test\n",
    "with open(path + 'y_test.pickle', 'rb') as file:\n",
    "    y_test=pickle.load(file)\n",
    "        \n",
    "# best model\n",
    "with open('best_lsvc.pickle', 'rb') as file:\n",
    "    model=pickle.load(file)\n",
    "    \n",
    "    "
   ]
  },
  {
   "cell_type": "code",
   "execution_count": 3,
   "id": "16710a9d",
   "metadata": {},
   "outputs": [
    {
     "name": "stdout",
     "output_type": "stream",
     "text": [
      "(7170, 2)\n",
      "(7170, 8257)\n",
      "(7170,)\n"
     ]
    }
   ],
   "source": [
    "print(X_test.shape)\n",
    "print(features_test.shape)\n",
    "print(y_test.shape)"
   ]
  },
  {
   "cell_type": "code",
   "execution_count": 4,
   "id": "e9cb5489",
   "metadata": {},
   "outputs": [],
   "source": [
    "#Reverse dictionary - to pass from label codes to labels\n",
    "reversed_label_codes={}\n",
    "categories=['Cultura y Espectáculos', 'Deportes', 'Economía','Internacional','Política','Sociedad/Policiales']\n",
    "for num in range(len(categories)):\n",
    "    reversed_label_codes[num]=categories[num]"
   ]
  },
  {
   "cell_type": "markdown",
   "id": "06904fb8",
   "metadata": {},
   "source": [
    "We compute the predictions for our test set and the predicted probabilities."
   ]
  },
  {
   "cell_type": "code",
   "execution_count": 5,
   "id": "008c2bde",
   "metadata": {},
   "outputs": [],
   "source": [
    "y_pred=model.predict(features_test)\n",
    "y_pred_proba=model.predict_proba(features_test)"
   ]
  },
  {
   "cell_type": "markdown",
   "id": "90008098",
   "metadata": {},
   "source": [
    "We create a test dataframe with all the computations."
   ]
  },
  {
   "cell_type": "code",
   "execution_count": 6,
   "id": "22bafccc",
   "metadata": {},
   "outputs": [],
   "source": [
    "df_test= X_test\n",
    "df_test['Label_code']=y_test\n",
    "df_test['Label'] = df_test['Label_code']\n",
    "df_test= df_test.replace({'Label':reversed_label_codes})\n",
    "df_test['Prediction']=y_pred\n",
    "df_test['Prediction_proba']=y_pred_proba.tolist()\n",
    "df_test['Label_Prediction']=df_test['Prediction']\n",
    "df_test= df_test.replace({'Label_Prediction':reversed_label_codes})\n",
    "df_test=df_test[['Texto_clean','Label','Label_Prediction','Prediction_proba']]"
   ]
  },
  {
   "cell_type": "code",
   "execution_count": 7,
   "id": "a5cb11c8",
   "metadata": {},
   "outputs": [
    {
     "data": {
      "text/html": [
       "<div>\n",
       "<style scoped>\n",
       "    .dataframe tbody tr th:only-of-type {\n",
       "        vertical-align: middle;\n",
       "    }\n",
       "\n",
       "    .dataframe tbody tr th {\n",
       "        vertical-align: top;\n",
       "    }\n",
       "\n",
       "    .dataframe thead th {\n",
       "        text-align: right;\n",
       "    }\n",
       "</style>\n",
       "<table border=\"1\" class=\"dataframe\">\n",
       "  <thead>\n",
       "    <tr style=\"text-align: right;\">\n",
       "      <th></th>\n",
       "      <th>Texto_clean</th>\n",
       "      <th>Label</th>\n",
       "      <th>Label_Prediction</th>\n",
       "      <th>Prediction_proba</th>\n",
       "    </tr>\n",
       "  </thead>\n",
       "  <tbody>\n",
       "    <tr>\n",
       "      <th>23690</th>\n",
       "      <td>una bisagra histórica que contrapone el princi...</td>\n",
       "      <td>Política</td>\n",
       "      <td>Internacional</td>\n",
       "      <td>[0.007658383169950256, 0.002866972456233079, 0...</td>\n",
       "    </tr>\n",
       "    <tr>\n",
       "      <th>24353</th>\n",
       "      <td>rusia acusa a ucrania de torturar a soldados r...</td>\n",
       "      <td>Internacional</td>\n",
       "      <td>Internacional</td>\n",
       "      <td>[0.0010477795422834904, 0.0019636575858595017,...</td>\n",
       "    </tr>\n",
       "    <tr>\n",
       "      <th>2773</th>\n",
       "      <td>iguales pero distintos la vuelta al trabajo pr...</td>\n",
       "      <td>Sociedad/Policiales</td>\n",
       "      <td>Cultura y Espectáculos</td>\n",
       "      <td>[0.3481506287369228, 0.0208656571690086, 0.230...</td>\n",
       "    </tr>\n",
       "    <tr>\n",
       "      <th>23950</th>\n",
       "      <td>acuerdo con el fmi cuáles son los pasos a segu...</td>\n",
       "      <td>Economía</td>\n",
       "      <td>Economía</td>\n",
       "      <td>[0.001675986416664208, 0.00020372804425518006,...</td>\n",
       "    </tr>\n",
       "    <tr>\n",
       "      <th>16107</th>\n",
       "      <td>estados unidos incautó fondos afganos para ayu...</td>\n",
       "      <td>Internacional</td>\n",
       "      <td>Internacional</td>\n",
       "      <td>[0.005088242368044489, 0.0027825022596589624, ...</td>\n",
       "    </tr>\n",
       "  </tbody>\n",
       "</table>\n",
       "</div>"
      ],
      "text/plain": [
       "                                             Texto_clean                Label  \\\n",
       "23690  una bisagra histórica que contrapone el princi...             Política   \n",
       "24353  rusia acusa a ucrania de torturar a soldados r...        Internacional   \n",
       "2773   iguales pero distintos la vuelta al trabajo pr...  Sociedad/Policiales   \n",
       "23950  acuerdo con el fmi cuáles son los pasos a segu...             Economía   \n",
       "16107  estados unidos incautó fondos afganos para ayu...        Internacional   \n",
       "\n",
       "             Label_Prediction  \\\n",
       "23690           Internacional   \n",
       "24353           Internacional   \n",
       "2773   Cultura y Espectáculos   \n",
       "23950                Economía   \n",
       "16107           Internacional   \n",
       "\n",
       "                                        Prediction_proba  \n",
       "23690  [0.007658383169950256, 0.002866972456233079, 0...  \n",
       "24353  [0.0010477795422834904, 0.0019636575858595017,...  \n",
       "2773   [0.3481506287369228, 0.0208656571690086, 0.230...  \n",
       "23950  [0.001675986416664208, 0.00020372804425518006,...  \n",
       "16107  [0.005088242368044489, 0.0027825022596589624, ...  "
      ]
     },
     "execution_count": 7,
     "metadata": {},
     "output_type": "execute_result"
    }
   ],
   "source": [
    "df_test.head()"
   ]
  },
  {
   "cell_type": "code",
   "execution_count": 8,
   "id": "b9bbe598",
   "metadata": {},
   "outputs": [
    {
     "data": {
      "text/plain": [
       "(7170, 4)"
      ]
     },
     "execution_count": 8,
     "metadata": {},
     "output_type": "execute_result"
    }
   ],
   "source": [
    "df_test.shape\n"
   ]
  },
  {
   "cell_type": "markdown",
   "id": "723abef0",
   "metadata": {},
   "source": [
    "We get the misclassified articles:"
   ]
  },
  {
   "cell_type": "code",
   "execution_count": 42,
   "id": "31848ec4",
   "metadata": {},
   "outputs": [
    {
     "data": {
      "text/html": [
       "<div>\n",
       "<style scoped>\n",
       "    .dataframe tbody tr th:only-of-type {\n",
       "        vertical-align: middle;\n",
       "    }\n",
       "\n",
       "    .dataframe tbody tr th {\n",
       "        vertical-align: top;\n",
       "    }\n",
       "\n",
       "    .dataframe thead th {\n",
       "        text-align: right;\n",
       "    }\n",
       "</style>\n",
       "<table border=\"1\" class=\"dataframe\">\n",
       "  <thead>\n",
       "    <tr style=\"text-align: right;\">\n",
       "      <th></th>\n",
       "      <th>Texto_clean</th>\n",
       "      <th>Label</th>\n",
       "      <th>Label_Prediction</th>\n",
       "      <th>Prediction_proba</th>\n",
       "    </tr>\n",
       "  </thead>\n",
       "  <tbody>\n",
       "    <tr>\n",
       "      <th>23690</th>\n",
       "      <td>una bisagra histórica que contrapone el princi...</td>\n",
       "      <td>Política</td>\n",
       "      <td>Internacional</td>\n",
       "      <td>[0.007658383169950256, 0.002866972456233079, 0...</td>\n",
       "    </tr>\n",
       "    <tr>\n",
       "      <th>2773</th>\n",
       "      <td>iguales pero distintos la vuelta al trabajo pr...</td>\n",
       "      <td>Sociedad/Policiales</td>\n",
       "      <td>Cultura y Espectáculos</td>\n",
       "      <td>[0.3481506287369228, 0.0208656571690086, 0.230...</td>\n",
       "    </tr>\n",
       "    <tr>\n",
       "      <th>21106</th>\n",
       "      <td>un fallo judicial frenó la entrega de tierras ...</td>\n",
       "      <td>Sociedad/Policiales</td>\n",
       "      <td>Política</td>\n",
       "      <td>[0.004894425609192773, 0.0012036417342927547, ...</td>\n",
       "    </tr>\n",
       "    <tr>\n",
       "      <th>18697</th>\n",
       "      <td>el pide al fmi acelerar el nuevo fondo para pa...</td>\n",
       "      <td>Internacional</td>\n",
       "      <td>Política</td>\n",
       "      <td>[0.0004068938016233832, 0.00027464780778460254...</td>\n",
       "    </tr>\n",
       "    <tr>\n",
       "      <th>16917</th>\n",
       "      <td>gobierno estima que llegará al congreso con el...</td>\n",
       "      <td>Política</td>\n",
       "      <td>Economía</td>\n",
       "      <td>[0.0002895247966268422, 0.0008975463820244922,...</td>\n",
       "    </tr>\n",
       "  </tbody>\n",
       "</table>\n",
       "</div>"
      ],
      "text/plain": [
       "                                             Texto_clean                Label  \\\n",
       "23690  una bisagra histórica que contrapone el princi...             Política   \n",
       "2773   iguales pero distintos la vuelta al trabajo pr...  Sociedad/Policiales   \n",
       "21106  un fallo judicial frenó la entrega de tierras ...  Sociedad/Policiales   \n",
       "18697  el pide al fmi acelerar el nuevo fondo para pa...        Internacional   \n",
       "16917  gobierno estima que llegará al congreso con el...             Política   \n",
       "\n",
       "             Label_Prediction  \\\n",
       "23690           Internacional   \n",
       "2773   Cultura y Espectáculos   \n",
       "21106                Política   \n",
       "18697                Política   \n",
       "16917                Economía   \n",
       "\n",
       "                                        Prediction_proba  \n",
       "23690  [0.007658383169950256, 0.002866972456233079, 0...  \n",
       "2773   [0.3481506287369228, 0.0208656571690086, 0.230...  \n",
       "21106  [0.004894425609192773, 0.0012036417342927547, ...  \n",
       "18697  [0.0004068938016233832, 0.00027464780778460254...  \n",
       "16917  [0.0002895247966268422, 0.0008975463820244922,...  "
      ]
     },
     "execution_count": 42,
     "metadata": {},
     "output_type": "execute_result"
    }
   ],
   "source": [
    "df_test_misclassified = df_test[df_test['Label'] != df_test['Label_Prediction']]\n",
    "df_test_misclassified.head()"
   ]
  },
  {
   "cell_type": "markdown",
   "id": "343d86a3",
   "metadata": {},
   "source": [
    "Number of misclassified news:"
   ]
  },
  {
   "cell_type": "code",
   "execution_count": 46,
   "id": "582d27fb",
   "metadata": {},
   "outputs": [
    {
     "name": "stdout",
     "output_type": "stream",
     "text": [
      "1009\n"
     ]
    }
   ],
   "source": [
    "print(df_test_misclassified.shape[0])"
   ]
  },
  {
   "cell_type": "code",
   "execution_count": 48,
   "id": "4f1825cd",
   "metadata": {},
   "outputs": [
    {
     "data": {
      "text/plain": [
       "Label                   Label_Prediction      \n",
       "Cultura y Espectáculos  Deportes                   16\n",
       "                        Economía                    7\n",
       "                        Internacional              28\n",
       "                        Política                    5\n",
       "                        Sociedad/Policiales        24\n",
       "Deportes                Cultura y Espectáculos      8\n",
       "                        Economía                    8\n",
       "                        Internacional              20\n",
       "                        Política                    9\n",
       "                        Sociedad/Policiales        19\n",
       "Economía                Cultura y Espectáculos      6\n",
       "                        Deportes                    5\n",
       "                        Internacional              46\n",
       "                        Política                   94\n",
       "                        Sociedad/Policiales        34\n",
       "Internacional           Cultura y Espectáculos     15\n",
       "                        Deportes                    7\n",
       "                        Economía                   45\n",
       "                        Política                   34\n",
       "                        Sociedad/Policiales        83\n",
       "Política                Cultura y Espectáculos     16\n",
       "                        Deportes                    9\n",
       "                        Economía                  105\n",
       "                        Internacional              36\n",
       "                        Sociedad/Policiales       106\n",
       "Sociedad/Policiales     Cultura y Espectáculos     50\n",
       "                        Deportes                   14\n",
       "                        Economía                   41\n",
       "                        Internacional              49\n",
       "                        Política                   70\n",
       "dtype: int64"
      ]
     },
     "execution_count": 48,
     "metadata": {},
     "output_type": "execute_result"
    }
   ],
   "source": [
    "df_test_misclassified.groupby(['Label', 'Label_Prediction']).size()"
   ]
  },
  {
   "cell_type": "markdown",
   "id": "7e0fb0ce",
   "metadata": {},
   "source": [
    "We can explore some articles to see what happen. We made a function to print the info."
   ]
  },
  {
   "cell_type": "code",
   "execution_count": 66,
   "id": "3c0d4867",
   "metadata": {},
   "outputs": [],
   "source": [
    "def show_misclassified_article(row):\n",
    "    print('Actual Category: %s' %(row['Label']))\n",
    "    print('Predicted Category: %s' %(row['Label_Prediction'])+'\\n')\n",
    "    print('Probabilities:')\n",
    "    #we sort the indices by probability, \n",
    "    sorted_indices=sorted(range(len(row['Prediction_proba'])), key=lambda k: row['Prediction_proba'][k],reverse=True)\n",
    "    sorted_categories=[reversed_label_codes[num] for num in sorted_indices]\n",
    "    #we sort the probabilities, and we round each number up to 2 decimals.\n",
    "    sorted_probabilities=sorted(row['Prediction_proba'],reverse=True)\n",
    "    rounded_probabilities=[round(num,2) for num in sorted_probabilities]\n",
    "    for i in range(len(sorted_indices)):\n",
    "        print(sorted_categories[i]+':'+str(rounded_probabilities[i]))\n",
    "    print('\\n')\n",
    "    print('Clean Text: ')\n",
    "    print('%s' %(row['Texto_clean']))\n",
    "    print('-'*116)"
   ]
  },
  {
   "cell_type": "markdown",
   "id": "5882ca0a",
   "metadata": {},
   "source": [
    "We choose some random articles to examine. "
   ]
  },
  {
   "cell_type": "code",
   "execution_count": 73,
   "id": "e877839c",
   "metadata": {},
   "outputs": [],
   "source": [
    "list_random=random.sample(range(0, df_test_misclassified.shape[0]-1), 5)"
   ]
  },
  {
   "cell_type": "code",
   "execution_count": 74,
   "id": "d8d4a0ea",
   "metadata": {},
   "outputs": [
    {
     "name": "stdout",
     "output_type": "stream",
     "text": [
      "Actual Category: Internacional\n",
      "Predicted Category: Economía\n",
      "\n",
      "Probabilities:\n",
      "Economía:0.64\n",
      "Internacional:0.31\n",
      "Política:0.03\n",
      "Deportes:0.01\n",
      "Sociedad/Policiales:0.01\n",
      "Cultura y Espectáculos:0.0\n",
      "\n",
      "\n",
      "Clean Text: \n",
      "indígenas de ecuador anuncian protestas por tiempo indefinido desde enero la poderosa conaie tomó la decisión tras la falta de respuesta del gobierno de lasso a su pedido de revertir el alza de los precios de los combustibles\n",
      "--------------------------------------------------------------------------------------------------------------------\n",
      "Actual Category: Economía\n",
      "Predicted Category: Política\n",
      "\n",
      "Probabilities:\n",
      "Política:0.51\n",
      "Economía:0.38\n",
      "Internacional:0.08\n",
      "Sociedad/Policiales:0.02\n",
      "Cultura y Espectáculos:0.01\n",
      "Deportes:0.0\n",
      "\n",
      "\n",
      "Clean Text: \n",
      "el gobierno estudia crear una empresa estatal de alimentos la portavoz presidencial gabriela cerruti explicó que brindará incentivos a pequeños productores de verduras y hortalizas\n",
      "--------------------------------------------------------------------------------------------------------------------\n",
      "Actual Category: Economía\n",
      "Predicted Category: Política\n",
      "\n",
      "Probabilities:\n",
      "Política:0.99\n",
      "Internacional:0.01\n",
      "Sociedad/Policiales:0.0\n",
      "Economía:0.0\n",
      "Cultura y Espectáculos:0.0\n",
      "Deportes:0.0\n",
      "\n",
      "\n",
      "Clean Text: \n",
      "elecciones qué le dijo cristina kirchner a alberto fernández tras su primer discurso la vicepresidenta envió un mensaje al mandatario luego de emitirse el mensaje grabado cuando se conocían los primeros datos electorales\n",
      "--------------------------------------------------------------------------------------------------------------------\n",
      "Actual Category: Internacional\n",
      "Predicted Category: Sociedad/Policiales\n",
      "\n",
      "Probabilities:\n",
      "Sociedad/Policiales:0.73\n",
      "Política:0.18\n",
      "Internacional:0.06\n",
      "Cultura y Espectáculos:0.02\n",
      "Economía:0.01\n",
      "Deportes:0.0\n",
      "\n",
      "\n",
      "Clean Text: \n",
      "miles de mujeres marcharon en españa contra la violencia de género\n",
      "--------------------------------------------------------------------------------------------------------------------\n",
      "Actual Category: Deportes\n",
      "Predicted Category: Internacional\n",
      "\n",
      "Probabilities:\n",
      "Internacional:0.63\n",
      "Deportes:0.31\n",
      "Política:0.04\n",
      "Economía:0.01\n",
      "Cultura y Espectáculos:0.01\n",
      "Sociedad/Policiales:0.0\n",
      "\n",
      "\n",
      "Clean Text: \n",
      "el deporte no es ajeno a la guerra entre rusia y ucrania la escalada bélica en el conflicto entre rusia y ucrania tuvo repercusiones en todo el mundo y lógicamente el deporte no es ajeno a esta realidad\n",
      "--------------------------------------------------------------------------------------------------------------------\n"
     ]
    }
   ],
   "source": [
    "for i in list_random:\n",
    "    show_misclassified_article(df_test_misclassified.iloc[i])\n"
   ]
  },
  {
   "cell_type": "markdown",
   "id": "eb83e668",
   "metadata": {},
   "source": [
    "In this cases, we can see that the category is not always clear. Sometimes, the articles talk about themes of two or more categories. And sometimes, the category is mislabeled, for example the third new is clearly about politics, but the actual category (the one from the newspaper) is economy.\n",
    "\n",
    "These cases will always be present, so we don't pretend that our model has 100% accuracy."
   ]
  }
 ],
 "metadata": {
  "kernelspec": {
   "display_name": "Python 3 (ipykernel)",
   "language": "python",
   "name": "python3"
  },
  "language_info": {
   "codemirror_mode": {
    "name": "ipython",
    "version": 3
   },
   "file_extension": ".py",
   "mimetype": "text/x-python",
   "name": "python",
   "nbconvert_exporter": "python",
   "pygments_lexer": "ipython3",
   "version": "3.9.7"
  }
 },
 "nbformat": 4,
 "nbformat_minor": 5
}
