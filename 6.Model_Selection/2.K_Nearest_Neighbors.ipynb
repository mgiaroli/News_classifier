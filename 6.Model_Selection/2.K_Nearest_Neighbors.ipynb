{
 "cells": [
  {
   "cell_type": "markdown",
   "id": "f8704fa6",
   "metadata": {},
   "source": [
    "# K Nearest Neighbors\n",
    "\n",
    "In this notebook, we will try the model [K Nearest Neighbors](https://scikit-learn.org/stable/modules/generated/sklearn.neighbors.KNeighborsClassifier.html)."
   ]
  },
  {
   "cell_type": "code",
   "execution_count": 21,
   "id": "8c8602be",
   "metadata": {},
   "outputs": [],
   "source": [
    "import pickle\n",
    "from sklearn.neighbors import KNeighborsClassifier\n",
    "from pprint import pprint\n",
    "from sklearn.model_selection import GridSearchCV\n",
    "from sklearn.metrics import classification_report, confusion_matrix, accuracy_score\n",
    "import matplotlib.pyplot as plt\n",
    "import seaborn as sns"
   ]
  },
  {
   "cell_type": "markdown",
   "id": "2265da26",
   "metadata": {},
   "source": [
    "We load our data"
   ]
  },
  {
   "cell_type": "code",
   "execution_count": 22,
   "id": "15ef27b7",
   "metadata": {},
   "outputs": [],
   "source": [
    "path='/home/maggie/News_classifier/4.Features_Creation/' \n",
    "\n",
    "# data\n",
    "with open(path + 'data_modified.pickle', 'rb') as file:\n",
    "    data=pickle.load(file)\n",
    "\n",
    "# features_train \n",
    "with open(path + 'features_train.pickle', 'rb') as file:\n",
    "    features_train=pickle.load(file)\n",
    "\n",
    "# features_test \n",
    "with open(path + 'features_test.pickle', 'rb') as file:\n",
    "    features_test=pickle.load(file)\n",
    "\n",
    "# y_train\n",
    "with open(path + 'y_train.pickle', 'rb') as file:\n",
    "    y_train=pickle.load(file)\n",
    "    \n",
    "# y_test\n",
    "with open(path + 'y_test.pickle', 'rb') as file:\n",
    "    y_test=pickle.load(file)\n"
   ]
  },
  {
   "cell_type": "code",
   "execution_count": 23,
   "id": "9c32b452",
   "metadata": {},
   "outputs": [
    {
     "name": "stdout",
     "output_type": "stream",
     "text": [
      "(16728, 8257)\n",
      "(7170, 8257)\n"
     ]
    }
   ],
   "source": [
    "print(features_train.shape)\n",
    "print(features_test.shape)"
   ]
  },
  {
   "cell_type": "markdown",
   "id": "eebf217c",
   "metadata": {},
   "source": [
    "## Hyperparameter tuning"
   ]
  },
  {
   "cell_type": "code",
   "execution_count": 24,
   "id": "2755906b",
   "metadata": {},
   "outputs": [
    {
     "name": "stdout",
     "output_type": "stream",
     "text": [
      "Parameters:\n",
      "\n",
      "{'algorithm': 'auto',\n",
      " 'leaf_size': 30,\n",
      " 'metric': 'minkowski',\n",
      " 'metric_params': None,\n",
      " 'n_jobs': None,\n",
      " 'n_neighbors': 5,\n",
      " 'p': 2,\n",
      " 'weights': 'uniform'}\n"
     ]
    }
   ],
   "source": [
    "knn0 = KNeighborsClassifier()\n",
    "\n",
    "print('Parameters:\\n')\n",
    "pprint(knn0.get_params())"
   ]
  },
  {
   "cell_type": "markdown",
   "id": "f9522cac",
   "metadata": {},
   "source": [
    "We will tune only the following parameter:\n",
    "\n",
    "**n_neighbors** = Number of neighbors to use. "
   ]
  },
  {
   "cell_type": "markdown",
   "id": "6cc37e5b",
   "metadata": {},
   "source": [
    "### Grid Search Cross Validation"
   ]
  },
  {
   "cell_type": "code",
   "execution_count": 25,
   "id": "77016205",
   "metadata": {
    "scrolled": true
   },
   "outputs": [
    {
     "name": "stdout",
     "output_type": "stream",
     "text": [
      "Fitting 5 folds for each of 25 candidates, totalling 125 fits\n",
      "[CV 1/5; 1/25] START n_neighbors=1..............................................\n",
      "[CV 1/5; 1/25] END ...............n_neighbors=1;, score=0.784 total time=   0.6s\n",
      "[CV 2/5; 1/25] START n_neighbors=1..............................................\n",
      "[CV 2/5; 1/25] END ...............n_neighbors=1;, score=0.784 total time=   0.6s\n",
      "[CV 3/5; 1/25] START n_neighbors=1..............................................\n",
      "[CV 3/5; 1/25] END ...............n_neighbors=1;, score=0.794 total time=   0.6s\n",
      "[CV 4/5; 1/25] START n_neighbors=1..............................................\n",
      "[CV 4/5; 1/25] END ...............n_neighbors=1;, score=0.791 total time=   0.6s\n",
      "[CV 5/5; 1/25] START n_neighbors=1..............................................\n",
      "[CV 5/5; 1/25] END ...............n_neighbors=1;, score=0.795 total time=   0.6s\n",
      "[CV 1/5; 2/25] START n_neighbors=3..............................................\n",
      "[CV 1/5; 2/25] END ...............n_neighbors=3;, score=0.804 total time=   0.7s\n",
      "[CV 2/5; 2/25] START n_neighbors=3..............................................\n",
      "[CV 2/5; 2/25] END ...............n_neighbors=3;, score=0.810 total time=   0.7s\n",
      "[CV 3/5; 2/25] START n_neighbors=3..............................................\n",
      "[CV 3/5; 2/25] END ...............n_neighbors=3;, score=0.809 total time=   0.7s\n",
      "[CV 4/5; 2/25] START n_neighbors=3..............................................\n",
      "[CV 4/5; 2/25] END ...............n_neighbors=3;, score=0.807 total time=   0.7s\n",
      "[CV 5/5; 2/25] START n_neighbors=3..............................................\n",
      "[CV 5/5; 2/25] END ...............n_neighbors=3;, score=0.814 total time=   0.7s\n",
      "[CV 1/5; 3/25] START n_neighbors=5..............................................\n",
      "[CV 1/5; 3/25] END ...............n_neighbors=5;, score=0.812 total time=   0.9s\n",
      "[CV 2/5; 3/25] START n_neighbors=5..............................................\n",
      "[CV 2/5; 3/25] END ...............n_neighbors=5;, score=0.822 total time=   1.0s\n",
      "[CV 3/5; 3/25] START n_neighbors=5..............................................\n",
      "[CV 3/5; 3/25] END ...............n_neighbors=5;, score=0.822 total time=   1.0s\n",
      "[CV 4/5; 3/25] START n_neighbors=5..............................................\n",
      "[CV 4/5; 3/25] END ...............n_neighbors=5;, score=0.822 total time=   1.0s\n",
      "[CV 5/5; 3/25] START n_neighbors=5..............................................\n",
      "[CV 5/5; 3/25] END ...............n_neighbors=5;, score=0.828 total time=   0.9s\n",
      "[CV 1/5; 4/25] START n_neighbors=7..............................................\n",
      "[CV 1/5; 4/25] END ...............n_neighbors=7;, score=0.825 total time=   1.0s\n",
      "[CV 2/5; 4/25] START n_neighbors=7..............................................\n",
      "[CV 2/5; 4/25] END ...............n_neighbors=7;, score=0.830 total time=   0.9s\n",
      "[CV 3/5; 4/25] START n_neighbors=7..............................................\n",
      "[CV 3/5; 4/25] END ...............n_neighbors=7;, score=0.828 total time=   0.9s\n",
      "[CV 4/5; 4/25] START n_neighbors=7..............................................\n",
      "[CV 4/5; 4/25] END ...............n_neighbors=7;, score=0.827 total time=   0.9s\n",
      "[CV 5/5; 4/25] START n_neighbors=7..............................................\n",
      "[CV 5/5; 4/25] END ...............n_neighbors=7;, score=0.828 total time=   0.9s\n",
      "[CV 1/5; 5/25] START n_neighbors=9..............................................\n",
      "[CV 1/5; 5/25] END ...............n_neighbors=9;, score=0.830 total time=   1.0s\n",
      "[CV 2/5; 5/25] START n_neighbors=9..............................................\n",
      "[CV 2/5; 5/25] END ...............n_neighbors=9;, score=0.829 total time=   0.9s\n",
      "[CV 3/5; 5/25] START n_neighbors=9..............................................\n",
      "[CV 3/5; 5/25] END ...............n_neighbors=9;, score=0.827 total time=   0.9s\n",
      "[CV 4/5; 5/25] START n_neighbors=9..............................................\n",
      "[CV 4/5; 5/25] END ...............n_neighbors=9;, score=0.829 total time=   1.0s\n",
      "[CV 5/5; 5/25] START n_neighbors=9..............................................\n",
      "[CV 5/5; 5/25] END ...............n_neighbors=9;, score=0.829 total time=   1.0s\n",
      "[CV 1/5; 6/25] START n_neighbors=11.............................................\n",
      "[CV 1/5; 6/25] END ..............n_neighbors=11;, score=0.831 total time=   1.0s\n",
      "[CV 2/5; 6/25] START n_neighbors=11.............................................\n",
      "[CV 2/5; 6/25] END ..............n_neighbors=11;, score=0.834 total time=   1.0s\n",
      "[CV 3/5; 6/25] START n_neighbors=11.............................................\n",
      "[CV 3/5; 6/25] END ..............n_neighbors=11;, score=0.831 total time=   0.9s\n",
      "[CV 4/5; 6/25] START n_neighbors=11.............................................\n",
      "[CV 4/5; 6/25] END ..............n_neighbors=11;, score=0.829 total time=   1.0s\n",
      "[CV 5/5; 6/25] START n_neighbors=11.............................................\n",
      "[CV 5/5; 6/25] END ..............n_neighbors=11;, score=0.826 total time=   0.9s\n",
      "[CV 1/5; 7/25] START n_neighbors=13.............................................\n",
      "[CV 1/5; 7/25] END ..............n_neighbors=13;, score=0.831 total time=   1.0s\n",
      "[CV 2/5; 7/25] START n_neighbors=13.............................................\n",
      "[CV 2/5; 7/25] END ..............n_neighbors=13;, score=0.831 total time=   1.0s\n",
      "[CV 3/5; 7/25] START n_neighbors=13.............................................\n",
      "[CV 3/5; 7/25] END ..............n_neighbors=13;, score=0.835 total time=   0.9s\n",
      "[CV 4/5; 7/25] START n_neighbors=13.............................................\n",
      "[CV 4/5; 7/25] END ..............n_neighbors=13;, score=0.826 total time=   1.0s\n",
      "[CV 5/5; 7/25] START n_neighbors=13.............................................\n",
      "[CV 5/5; 7/25] END ..............n_neighbors=13;, score=0.827 total time=   0.9s\n",
      "[CV 1/5; 8/25] START n_neighbors=15.............................................\n",
      "[CV 1/5; 8/25] END ..............n_neighbors=15;, score=0.830 total time=   1.0s\n",
      "[CV 2/5; 8/25] START n_neighbors=15.............................................\n",
      "[CV 2/5; 8/25] END ..............n_neighbors=15;, score=0.831 total time=   1.0s\n",
      "[CV 3/5; 8/25] START n_neighbors=15.............................................\n",
      "[CV 3/5; 8/25] END ..............n_neighbors=15;, score=0.837 total time=   1.0s\n",
      "[CV 4/5; 8/25] START n_neighbors=15.............................................\n",
      "[CV 4/5; 8/25] END ..............n_neighbors=15;, score=0.830 total time=   0.9s\n",
      "[CV 5/5; 8/25] START n_neighbors=15.............................................\n",
      "[CV 5/5; 8/25] END ..............n_neighbors=15;, score=0.825 total time=   1.0s\n",
      "[CV 1/5; 9/25] START n_neighbors=17.............................................\n",
      "[CV 1/5; 9/25] END ..............n_neighbors=17;, score=0.828 total time=   0.9s\n",
      "[CV 2/5; 9/25] START n_neighbors=17.............................................\n",
      "[CV 2/5; 9/25] END ..............n_neighbors=17;, score=0.833 total time=   0.9s\n",
      "[CV 3/5; 9/25] START n_neighbors=17.............................................\n",
      "[CV 3/5; 9/25] END ..............n_neighbors=17;, score=0.839 total time=   1.0s\n",
      "[CV 4/5; 9/25] START n_neighbors=17.............................................\n",
      "[CV 4/5; 9/25] END ..............n_neighbors=17;, score=0.829 total time=   1.0s\n",
      "[CV 5/5; 9/25] START n_neighbors=17.............................................\n",
      "[CV 5/5; 9/25] END ..............n_neighbors=17;, score=0.829 total time=   1.7s\n",
      "[CV 1/5; 10/25] START n_neighbors=19............................................\n",
      "[CV 1/5; 10/25] END .............n_neighbors=19;, score=0.827 total time=   1.0s\n",
      "[CV 2/5; 10/25] START n_neighbors=19............................................\n",
      "[CV 2/5; 10/25] END .............n_neighbors=19;, score=0.828 total time=   1.0s\n",
      "[CV 3/5; 10/25] START n_neighbors=19............................................\n",
      "[CV 3/5; 10/25] END .............n_neighbors=19;, score=0.835 total time=   0.9s\n",
      "[CV 4/5; 10/25] START n_neighbors=19............................................\n",
      "[CV 4/5; 10/25] END .............n_neighbors=19;, score=0.829 total time=   1.0s\n",
      "[CV 5/5; 10/25] START n_neighbors=19............................................\n",
      "[CV 5/5; 10/25] END .............n_neighbors=19;, score=0.830 total time=   1.1s\n",
      "[CV 1/5; 11/25] START n_neighbors=21............................................\n"
     ]
    },
    {
     "name": "stdout",
     "output_type": "stream",
     "text": [
      "[CV 1/5; 11/25] END .............n_neighbors=21;, score=0.827 total time=   1.0s\n",
      "[CV 2/5; 11/25] START n_neighbors=21............................................\n",
      "[CV 2/5; 11/25] END .............n_neighbors=21;, score=0.831 total time=   1.0s\n",
      "[CV 3/5; 11/25] START n_neighbors=21............................................\n",
      "[CV 3/5; 11/25] END .............n_neighbors=21;, score=0.830 total time=   1.0s\n",
      "[CV 4/5; 11/25] START n_neighbors=21............................................\n",
      "[CV 4/5; 11/25] END .............n_neighbors=21;, score=0.824 total time=   1.0s\n",
      "[CV 5/5; 11/25] START n_neighbors=21............................................\n",
      "[CV 5/5; 11/25] END .............n_neighbors=21;, score=0.831 total time=   0.9s\n",
      "[CV 1/5; 12/25] START n_neighbors=23............................................\n",
      "[CV 1/5; 12/25] END .............n_neighbors=23;, score=0.826 total time=   0.9s\n",
      "[CV 2/5; 12/25] START n_neighbors=23............................................\n",
      "[CV 2/5; 12/25] END .............n_neighbors=23;, score=0.833 total time=   0.9s\n",
      "[CV 3/5; 12/25] START n_neighbors=23............................................\n",
      "[CV 3/5; 12/25] END .............n_neighbors=23;, score=0.830 total time=   1.1s\n",
      "[CV 4/5; 12/25] START n_neighbors=23............................................\n",
      "[CV 4/5; 12/25] END .............n_neighbors=23;, score=0.826 total time=   1.0s\n",
      "[CV 5/5; 12/25] START n_neighbors=23............................................\n",
      "[CV 5/5; 12/25] END .............n_neighbors=23;, score=0.827 total time=   1.0s\n",
      "[CV 1/5; 13/25] START n_neighbors=25............................................\n",
      "[CV 1/5; 13/25] END .............n_neighbors=25;, score=0.830 total time=   1.0s\n",
      "[CV 2/5; 13/25] START n_neighbors=25............................................\n",
      "[CV 2/5; 13/25] END .............n_neighbors=25;, score=0.831 total time=   1.0s\n",
      "[CV 3/5; 13/25] START n_neighbors=25............................................\n",
      "[CV 3/5; 13/25] END .............n_neighbors=25;, score=0.831 total time=   1.0s\n",
      "[CV 4/5; 13/25] START n_neighbors=25............................................\n",
      "[CV 4/5; 13/25] END .............n_neighbors=25;, score=0.822 total time=   1.0s\n",
      "[CV 5/5; 13/25] START n_neighbors=25............................................\n",
      "[CV 5/5; 13/25] END .............n_neighbors=25;, score=0.825 total time=   1.0s\n",
      "[CV 1/5; 14/25] START n_neighbors=27............................................\n",
      "[CV 1/5; 14/25] END .............n_neighbors=27;, score=0.825 total time=   1.0s\n",
      "[CV 2/5; 14/25] START n_neighbors=27............................................\n",
      "[CV 2/5; 14/25] END .............n_neighbors=27;, score=0.831 total time=   1.0s\n",
      "[CV 3/5; 14/25] START n_neighbors=27............................................\n",
      "[CV 3/5; 14/25] END .............n_neighbors=27;, score=0.830 total time=   1.0s\n",
      "[CV 4/5; 14/25] START n_neighbors=27............................................\n",
      "[CV 4/5; 14/25] END .............n_neighbors=27;, score=0.823 total time=   1.0s\n",
      "[CV 5/5; 14/25] START n_neighbors=27............................................\n",
      "[CV 5/5; 14/25] END .............n_neighbors=27;, score=0.825 total time=   1.0s\n",
      "[CV 1/5; 15/25] START n_neighbors=29............................................\n",
      "[CV 1/5; 15/25] END .............n_neighbors=29;, score=0.825 total time=   1.0s\n",
      "[CV 2/5; 15/25] START n_neighbors=29............................................\n",
      "[CV 2/5; 15/25] END .............n_neighbors=29;, score=0.828 total time=   1.0s\n",
      "[CV 3/5; 15/25] START n_neighbors=29............................................\n",
      "[CV 3/5; 15/25] END .............n_neighbors=29;, score=0.834 total time=   1.0s\n",
      "[CV 4/5; 15/25] START n_neighbors=29............................................\n",
      "[CV 4/5; 15/25] END .............n_neighbors=29;, score=0.825 total time=   1.0s\n",
      "[CV 5/5; 15/25] START n_neighbors=29............................................\n",
      "[CV 5/5; 15/25] END .............n_neighbors=29;, score=0.825 total time=   1.0s\n",
      "[CV 1/5; 16/25] START n_neighbors=31............................................\n",
      "[CV 1/5; 16/25] END .............n_neighbors=31;, score=0.825 total time=   1.0s\n",
      "[CV 2/5; 16/25] START n_neighbors=31............................................\n",
      "[CV 2/5; 16/25] END .............n_neighbors=31;, score=0.828 total time=   1.0s\n",
      "[CV 3/5; 16/25] START n_neighbors=31............................................\n",
      "[CV 3/5; 16/25] END .............n_neighbors=31;, score=0.830 total time=   1.0s\n",
      "[CV 4/5; 16/25] START n_neighbors=31............................................\n",
      "[CV 4/5; 16/25] END .............n_neighbors=31;, score=0.824 total time=   1.0s\n",
      "[CV 5/5; 16/25] START n_neighbors=31............................................\n",
      "[CV 5/5; 16/25] END .............n_neighbors=31;, score=0.828 total time=   1.0s\n",
      "[CV 1/5; 17/25] START n_neighbors=33............................................\n",
      "[CV 1/5; 17/25] END .............n_neighbors=33;, score=0.826 total time=   1.0s\n",
      "[CV 2/5; 17/25] START n_neighbors=33............................................\n",
      "[CV 2/5; 17/25] END .............n_neighbors=33;, score=0.827 total time=   1.0s\n",
      "[CV 3/5; 17/25] START n_neighbors=33............................................\n",
      "[CV 3/5; 17/25] END .............n_neighbors=33;, score=0.830 total time=   1.0s\n",
      "[CV 4/5; 17/25] START n_neighbors=33............................................\n",
      "[CV 4/5; 17/25] END .............n_neighbors=33;, score=0.823 total time=   1.0s\n",
      "[CV 5/5; 17/25] START n_neighbors=33............................................\n",
      "[CV 5/5; 17/25] END .............n_neighbors=33;, score=0.828 total time=   1.0s\n",
      "[CV 1/5; 18/25] START n_neighbors=35............................................\n",
      "[CV 1/5; 18/25] END .............n_neighbors=35;, score=0.825 total time=   1.0s\n",
      "[CV 2/5; 18/25] START n_neighbors=35............................................\n",
      "[CV 2/5; 18/25] END .............n_neighbors=35;, score=0.824 total time=   1.0s\n",
      "[CV 3/5; 18/25] START n_neighbors=35............................................\n",
      "[CV 3/5; 18/25] END .............n_neighbors=35;, score=0.832 total time=   1.0s\n",
      "[CV 4/5; 18/25] START n_neighbors=35............................................\n",
      "[CV 4/5; 18/25] END .............n_neighbors=35;, score=0.821 total time=   1.0s\n",
      "[CV 5/5; 18/25] START n_neighbors=35............................................\n",
      "[CV 5/5; 18/25] END .............n_neighbors=35;, score=0.826 total time=   1.0s\n",
      "[CV 1/5; 19/25] START n_neighbors=37............................................\n",
      "[CV 1/5; 19/25] END .............n_neighbors=37;, score=0.827 total time=   1.0s\n",
      "[CV 2/5; 19/25] START n_neighbors=37............................................\n",
      "[CV 2/5; 19/25] END .............n_neighbors=37;, score=0.825 total time=   1.0s\n",
      "[CV 3/5; 19/25] START n_neighbors=37............................................\n",
      "[CV 3/5; 19/25] END .............n_neighbors=37;, score=0.832 total time=   1.0s\n",
      "[CV 4/5; 19/25] START n_neighbors=37............................................\n",
      "[CV 4/5; 19/25] END .............n_neighbors=37;, score=0.820 total time=   1.0s\n",
      "[CV 5/5; 19/25] START n_neighbors=37............................................\n",
      "[CV 5/5; 19/25] END .............n_neighbors=37;, score=0.827 total time=   1.0s\n",
      "[CV 1/5; 20/25] START n_neighbors=39............................................\n",
      "[CV 1/5; 20/25] END .............n_neighbors=39;, score=0.829 total time=   1.0s\n",
      "[CV 2/5; 20/25] START n_neighbors=39............................................\n",
      "[CV 2/5; 20/25] END .............n_neighbors=39;, score=0.825 total time=   1.0s\n",
      "[CV 3/5; 20/25] START n_neighbors=39............................................\n",
      "[CV 3/5; 20/25] END .............n_neighbors=39;, score=0.828 total time=   1.0s\n",
      "[CV 4/5; 20/25] START n_neighbors=39............................................\n",
      "[CV 4/5; 20/25] END .............n_neighbors=39;, score=0.820 total time=   1.0s\n",
      "[CV 5/5; 20/25] START n_neighbors=39............................................\n",
      "[CV 5/5; 20/25] END .............n_neighbors=39;, score=0.825 total time=   1.0s\n",
      "[CV 1/5; 21/25] START n_neighbors=41............................................\n",
      "[CV 1/5; 21/25] END .............n_neighbors=41;, score=0.825 total time=   1.0s\n",
      "[CV 2/5; 21/25] START n_neighbors=41............................................\n"
     ]
    },
    {
     "name": "stdout",
     "output_type": "stream",
     "text": [
      "[CV 2/5; 21/25] END .............n_neighbors=41;, score=0.822 total time=   1.0s\n",
      "[CV 3/5; 21/25] START n_neighbors=41............................................\n",
      "[CV 3/5; 21/25] END .............n_neighbors=41;, score=0.828 total time=   1.0s\n",
      "[CV 4/5; 21/25] START n_neighbors=41............................................\n",
      "[CV 4/5; 21/25] END .............n_neighbors=41;, score=0.821 total time=   1.0s\n",
      "[CV 5/5; 21/25] START n_neighbors=41............................................\n",
      "[CV 5/5; 21/25] END .............n_neighbors=41;, score=0.824 total time=   1.0s\n",
      "[CV 1/5; 22/25] START n_neighbors=43............................................\n",
      "[CV 1/5; 22/25] END .............n_neighbors=43;, score=0.825 total time=   1.0s\n",
      "[CV 2/5; 22/25] START n_neighbors=43............................................\n",
      "[CV 2/5; 22/25] END .............n_neighbors=43;, score=0.823 total time=   1.0s\n",
      "[CV 3/5; 22/25] START n_neighbors=43............................................\n",
      "[CV 3/5; 22/25] END .............n_neighbors=43;, score=0.826 total time=   1.0s\n",
      "[CV 4/5; 22/25] START n_neighbors=43............................................\n",
      "[CV 4/5; 22/25] END .............n_neighbors=43;, score=0.822 total time=   1.0s\n",
      "[CV 5/5; 22/25] START n_neighbors=43............................................\n",
      "[CV 5/5; 22/25] END .............n_neighbors=43;, score=0.825 total time=   1.0s\n",
      "[CV 1/5; 23/25] START n_neighbors=45............................................\n",
      "[CV 1/5; 23/25] END .............n_neighbors=45;, score=0.828 total time=   1.0s\n",
      "[CV 2/5; 23/25] START n_neighbors=45............................................\n",
      "[CV 2/5; 23/25] END .............n_neighbors=45;, score=0.823 total time=   1.0s\n",
      "[CV 3/5; 23/25] START n_neighbors=45............................................\n",
      "[CV 3/5; 23/25] END .............n_neighbors=45;, score=0.825 total time=   1.0s\n",
      "[CV 4/5; 23/25] START n_neighbors=45............................................\n",
      "[CV 4/5; 23/25] END .............n_neighbors=45;, score=0.821 total time=   1.0s\n",
      "[CV 5/5; 23/25] START n_neighbors=45............................................\n",
      "[CV 5/5; 23/25] END .............n_neighbors=45;, score=0.826 total time=   1.0s\n",
      "[CV 1/5; 24/25] START n_neighbors=47............................................\n",
      "[CV 1/5; 24/25] END .............n_neighbors=47;, score=0.827 total time=   1.0s\n",
      "[CV 2/5; 24/25] START n_neighbors=47............................................\n",
      "[CV 2/5; 24/25] END .............n_neighbors=47;, score=0.823 total time=   1.0s\n",
      "[CV 3/5; 24/25] START n_neighbors=47............................................\n",
      "[CV 3/5; 24/25] END .............n_neighbors=47;, score=0.826 total time=   1.0s\n",
      "[CV 4/5; 24/25] START n_neighbors=47............................................\n",
      "[CV 4/5; 24/25] END .............n_neighbors=47;, score=0.821 total time=   1.0s\n",
      "[CV 5/5; 24/25] START n_neighbors=47............................................\n",
      "[CV 5/5; 24/25] END .............n_neighbors=47;, score=0.823 total time=   1.0s\n",
      "[CV 1/5; 25/25] START n_neighbors=49............................................\n",
      "[CV 1/5; 25/25] END .............n_neighbors=49;, score=0.827 total time=   1.0s\n",
      "[CV 2/5; 25/25] START n_neighbors=49............................................\n",
      "[CV 2/5; 25/25] END .............n_neighbors=49;, score=0.823 total time=   1.0s\n",
      "[CV 3/5; 25/25] START n_neighbors=49............................................\n",
      "[CV 3/5; 25/25] END .............n_neighbors=49;, score=0.826 total time=   1.0s\n",
      "[CV 4/5; 25/25] START n_neighbors=49............................................\n",
      "[CV 4/5; 25/25] END .............n_neighbors=49;, score=0.818 total time=   1.0s\n",
      "[CV 5/5; 25/25] START n_neighbors=49............................................\n",
      "[CV 5/5; 25/25] END .............n_neighbors=49;, score=0.822 total time=   1.0s\n"
     ]
    },
    {
     "data": {
      "text/plain": [
       "GridSearchCV(estimator=KNeighborsClassifier(),\n",
       "             param_grid={'n_neighbors': [1, 3, 5, 7, 9, 11, 13, 15, 17, 19, 21,\n",
       "                                         23, 25, 27, 29, 31, 33, 35, 37, 39, 41,\n",
       "                                         43, 45, 47, 49]},\n",
       "             scoring='accuracy', verbose=12)"
      ]
     },
     "execution_count": 25,
     "metadata": {},
     "output_type": "execute_result"
    }
   ],
   "source": [
    "# Create the parameter grid \n",
    "#n_neighbors \n",
    "n_neighbors=[n for n in range(1,50,2)]\n",
    "\n",
    "param_grid = {\n",
    "'n_neighbors': n_neighbors}\n",
    "\n",
    "# Base model\n",
    "knn = KNeighborsClassifier()\n",
    "\n",
    "# Grid search model\n",
    "grid_search = GridSearchCV(estimator=knn, \n",
    "                            param_grid=param_grid,\n",
    "                            scoring='accuracy',\n",
    "                            verbose=12)\n",
    "\n",
    "# Fit the grid search to the data\n",
    "grid_search.fit(features_train, y_train)"
   ]
  },
  {
   "cell_type": "code",
   "execution_count": 31,
   "id": "3453470e",
   "metadata": {},
   "outputs": [
    {
     "name": "stdout",
     "output_type": "stream",
     "text": [
      "The best hyperparameters from GridSearchCV are:\n",
      "{'n_neighbors': 17}\n",
      "\n",
      "The mean accuracy of a KNeighborsClassifier model with these hyperparameters is:\n",
      "0.831599419961992\n"
     ]
    }
   ],
   "source": [
    "print(\"The best hyperparameters from GridSearchCV are:\")\n",
    "print(grid_search.best_params_)\n",
    "print(\"\")\n",
    "print(\"The mean accuracy of a KNeighborsClassifier model with these hyperparameters is:\")\n",
    "print(grid_search.best_score_)"
   ]
  },
  {
   "cell_type": "markdown",
   "id": "95b61a23",
   "metadata": {},
   "source": [
    "We save the model with the best hyperparameters"
   ]
  },
  {
   "cell_type": "code",
   "execution_count": 32,
   "id": "448f2419",
   "metadata": {},
   "outputs": [],
   "source": [
    "best_knn= grid_search.best_estimator_"
   ]
  },
  {
   "cell_type": "markdown",
   "id": "1e7ea7e0",
   "metadata": {},
   "source": [
    "## Model fit\n",
    "\n",
    "We fit the model to the training data."
   ]
  },
  {
   "cell_type": "code",
   "execution_count": 33,
   "id": "b50ec809",
   "metadata": {},
   "outputs": [
    {
     "data": {
      "text/plain": [
       "KNeighborsClassifier(n_neighbors=17)"
      ]
     },
     "execution_count": 33,
     "metadata": {},
     "output_type": "execute_result"
    }
   ],
   "source": [
    "best_knn.fit(features_train, y_train)"
   ]
  },
  {
   "cell_type": "markdown",
   "id": "6fcf1b9a",
   "metadata": {},
   "source": [
    "## Model performance"
   ]
  },
  {
   "cell_type": "markdown",
   "id": "7f1bcea0",
   "metadata": {},
   "source": [
    "### - Training accuracy"
   ]
  },
  {
   "cell_type": "code",
   "execution_count": 34,
   "id": "d0f606f9",
   "metadata": {},
   "outputs": [
    {
     "name": "stdout",
     "output_type": "stream",
     "text": [
      "The training accuracy  is: \n",
      "0.8580224772835964\n"
     ]
    }
   ],
   "source": [
    "print(\"The training accuracy  is: \")\n",
    "accuracy_train=accuracy_score(y_train,best_knn.predict(features_train))\n",
    "print(accuracy_train)"
   ]
  },
  {
   "cell_type": "markdown",
   "id": "164187c4",
   "metadata": {},
   "source": [
    "### - Test accuracy"
   ]
  },
  {
   "cell_type": "code",
   "execution_count": 35,
   "id": "274d1372",
   "metadata": {},
   "outputs": [
    {
     "name": "stdout",
     "output_type": "stream",
     "text": [
      "The test accuracy is: \n",
      "0.8357043235704323\n"
     ]
    }
   ],
   "source": [
    "print(\"The test accuracy is: \")\n",
    "knn_pred=best_knn.predict(features_test)\n",
    "accuracy_test=accuracy_score(y_test, knn_pred)\n",
    "print(accuracy_test)"
   ]
  },
  {
   "cell_type": "markdown",
   "id": "5af5ef31",
   "metadata": {},
   "source": [
    "### - Classification report and confusion matrix"
   ]
  },
  {
   "cell_type": "code",
   "execution_count": 36,
   "id": "e6086cc5",
   "metadata": {},
   "outputs": [
    {
     "name": "stdout",
     "output_type": "stream",
     "text": [
      "Classification report\n",
      "              precision    recall  f1-score   support\n",
      "\n",
      "           0       0.88      0.87      0.88       904\n",
      "           1       0.95      0.94      0.94      1448\n",
      "           2       0.82      0.85      0.83      1276\n",
      "           3       0.79      0.81      0.80      1073\n",
      "           4       0.81      0.80      0.81      1392\n",
      "           5       0.75      0.73      0.74      1077\n",
      "\n",
      "    accuracy                           0.84      7170\n",
      "   macro avg       0.83      0.83      0.83      7170\n",
      "weighted avg       0.84      0.84      0.84      7170\n",
      "\n"
     ]
    },
    {
     "data": {
      "image/png": "[encoded data removed]",
      "text/plain": [
       "<Figure size 921.6x432 with 2 Axes>"
      ]
     },
     "metadata": {
      "needs_background": "light"
     },
     "output_type": "display_data"
    }
   ],
   "source": [
    "#Classification report\n",
    "print(\"Classification report\")\n",
    "print(classification_report(y_test,knn_pred))\n",
    "\n",
    "#Confusion matrix\n",
    "aux_data = data[['Label', 'Label_code']].drop_duplicates().sort_values('Label_code')\n",
    "conf_matrix = confusion_matrix(y_test, knn_pred,normalize='true')\n",
    "plt.figure(figsize=(12.8,6))\n",
    "sns.heatmap(conf_matrix, annot=True,\n",
    "            xticklabels=aux_data['Label'], \n",
    "            yticklabels=aux_data['Label'],\n",
    "            cmap=\"Reds\")\n",
    "plt.ylabel('Predicted')\n",
    "plt.xlabel('Actual')\n",
    "plt.title('Confusion matrix')\n",
    "plt.show()"
   ]
  },
  {
   "cell_type": "markdown",
   "id": "85145839",
   "metadata": {},
   "source": [
    "We save the model.\n"
   ]
  },
  {
   "cell_type": "code",
   "execution_count": 37,
   "id": "5cca2e63",
   "metadata": {},
   "outputs": [],
   "source": [
    "with open('best_knn.pickle', 'wb') as output:\n",
    "    pickle.dump(best_knn, output)"
   ]
  },
  {
   "cell_type": "markdown",
   "id": "f2b88c86",
   "metadata": {},
   "source": [
    "We also save the scores for the different metrics we considered. In the case of precision, recall and F1-score we use macro average (averaging the unweighted mean per label)."
   ]
  },
  {
   "cell_type": "code",
   "execution_count": 38,
   "id": "36b0a586",
   "metadata": {},
   "outputs": [],
   "source": [
    "classification_report_macro=classification_report(y_test,knn_pred,output_dict=True)['macro avg']\n",
    "scores_knn = {\n",
    "     'Model': 'K Nearest Neighbors',\n",
    "     'Training Set Accuracy': accuracy_train,\n",
    "     'Test Set Accuracy': accuracy_test,\n",
    "     'Precision':classification_report_macro['precision'],\n",
    "    'Recall':classification_report_macro['recall'],\n",
    "    'F1-score':classification_report_macro['f1-score']\n",
    "}"
   ]
  },
  {
   "cell_type": "code",
   "execution_count": 39,
   "id": "da3b396a",
   "metadata": {},
   "outputs": [
    {
     "data": {
      "text/plain": [
       "{'Model': 'K Nearest Neighbors',\n",
       " 'Training Set Accuracy': 0.8580224772835964,\n",
       " 'Test Set Accuracy': 0.8357043235704323,\n",
       " 'Precision': 0.8325747572017033,\n",
       " 'Recall': 0.8321209762441376,\n",
       " 'F1-score': 0.8322127536792338}"
      ]
     },
     "execution_count": 39,
     "metadata": {},
     "output_type": "execute_result"
    }
   ],
   "source": [
    "scores_knn"
   ]
  },
  {
   "cell_type": "code",
   "execution_count": 40,
   "id": "1b239e29",
   "metadata": {},
   "outputs": [],
   "source": [
    "with open('scores_knn.pickle', 'wb') as handle:\n",
    "    pickle.dump(scores_knn, handle, protocol=pickle.HIGHEST_PROTOCOL)"
   ]
  }
 ],
 "metadata": {
  "kernelspec": {
   "display_name": "Python 3 (ipykernel)",
   "language": "python",
   "name": "python3"
  },
  "language_info": {
   "codemirror_mode": {
    "name": "ipython",
    "version": 3
   },
   "file_extension": ".py",
   "mimetype": "text/x-python",
   "name": "python",
   "nbconvert_exporter": "python",
   "pygments_lexer": "ipython3",
   "version": "3.9.7"
  }
 },
 "nbformat": 4,
 "nbformat_minor": 5
}
